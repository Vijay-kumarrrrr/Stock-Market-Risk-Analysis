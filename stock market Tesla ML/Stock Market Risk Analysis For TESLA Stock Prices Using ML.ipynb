{
 "cells": [
  {
   "cell_type": "markdown",
   "metadata": {},
   "source": [
    "# Stock market Risk Analysis for Tesla Stock Prices"
   ]
  },
  {
   "cell_type": "markdown",
   "metadata": {},
   "source": [
    "The Visualisations in this project have been made using the Plotly package which may not be visible In github repository, To see those plots or the complete program with visualisation You can click on the link in README.md file."
   ]
  },
  {
   "cell_type": "markdown",
   "metadata": {},
   "source": [
    "#### Importing Essential Libraries and packages"
   ]
  },
  {
   "cell_type": "code",
   "execution_count": 404,
   "metadata": {},
   "outputs": [],
   "source": [
    "import numpy as np\n",
    "import pandas as pd\n",
    "from pandas import Series, DataFrame\n",
    "import seaborn as sns\n",
    "import matplotlib.pyplot as plt\n",
    "sns.set_style('darkgrid')\n",
    "import plotly\n",
    "import chart_studio.plotly as py\n",
    "import plotly.graph_objs as go\n",
    "from plotly.offline import plot"
   ]
  },
  {
   "cell_type": "code",
   "execution_count": 405,
   "metadata": {},
   "outputs": [
    {
     "data": {
      "text/html": [
       "        <script type=\"text/javascript\">\n",
       "        window.PlotlyConfig = {MathJaxConfig: 'local'};\n",
       "        if (window.MathJax) {MathJax.Hub.Config({SVG: {font: \"STIX-Web\"}});}\n",
       "        if (typeof require !== 'undefined') {\n",
       "        require.undef(\"plotly\");\n",
       "        requirejs.config({\n",
       "            paths: {\n",
       "                'plotly': ['https://cdn.plot.ly/plotly-latest.min']\n",
       "            }\n",
       "        });\n",
       "        require(['plotly'], function(Plotly) {\n",
       "            window._Plotly = Plotly;\n",
       "        });\n",
       "        }\n",
       "        </script>\n",
       "        "
      ]
     },
     "metadata": {},
     "output_type": "display_data"
    }
   ],
   "source": [
    "from plotly.offline import init_notebook_mode, plot, iplot, download_plotlyjs\n",
    "init_notebook_mode(connected = True)"
   ]
  },
  {
   "cell_type": "markdown",
   "metadata": {},
   "source": [
    "#### Importing Stock market data from the Internet"
   ]
  },
  {
   "cell_type": "code",
   "execution_count": 406,
   "metadata": {},
   "outputs": [],
   "source": [
    "import pandas_datareader.data as web"
   ]
  },
  {
   "cell_type": "code",
   "execution_count": 407,
   "metadata": {},
   "outputs": [],
   "source": [
    "from datetime import datetime"
   ]
  },
  {
   "cell_type": "code",
   "execution_count": 520,
   "metadata": {},
   "outputs": [],
   "source": [
    "# Setting the Start and End date for Stock Market Analysis\n",
    "# Data of past 1 year\n",
    "\n",
    "end = datetime.now()\n",
    "start = datetime(end.year-1,end.month,end.day)"
   ]
  },
  {
   "cell_type": "code",
   "execution_count": 409,
   "metadata": {},
   "outputs": [],
   "source": [
    "# Importing Tesla Motors Stock Prices\n",
    "\n",
    "TSLA = web.DataReader('TSLA','yahoo',start,end)"
   ]
  },
  {
   "cell_type": "code",
   "execution_count": 410,
   "metadata": {},
   "outputs": [],
   "source": [
    "TSLA.to_csv('TSLA.csv')"
   ]
  },
  {
   "cell_type": "code",
   "execution_count": 411,
   "metadata": {},
   "outputs": [],
   "source": [
    "TSLA_data = pd.read_csv('TSLA.csv')"
   ]
  },
  {
   "cell_type": "code",
   "execution_count": 412,
   "metadata": {},
   "outputs": [
    {
     "data": {
      "text/html": [
       "<div>\n",
       "<style scoped>\n",
       "    .dataframe tbody tr th:only-of-type {\n",
       "        vertical-align: middle;\n",
       "    }\n",
       "\n",
       "    .dataframe tbody tr th {\n",
       "        vertical-align: top;\n",
       "    }\n",
       "\n",
       "    .dataframe thead th {\n",
       "        text-align: right;\n",
       "    }\n",
       "</style>\n",
       "<table border=\"1\" class=\"dataframe\">\n",
       "  <thead>\n",
       "    <tr style=\"text-align: right;\">\n",
       "      <th></th>\n",
       "      <th>Date</th>\n",
       "      <th>High</th>\n",
       "      <th>Low</th>\n",
       "      <th>Open</th>\n",
       "      <th>Close</th>\n",
       "      <th>Volume</th>\n",
       "      <th>Adj Close</th>\n",
       "    </tr>\n",
       "  </thead>\n",
       "  <tbody>\n",
       "    <tr>\n",
       "      <th>0</th>\n",
       "      <td>2019-07-23</td>\n",
       "      <td>260.480011</td>\n",
       "      <td>254.500000</td>\n",
       "      <td>256.709991</td>\n",
       "      <td>260.170013</td>\n",
       "      <td>5023100</td>\n",
       "      <td>260.170013</td>\n",
       "    </tr>\n",
       "    <tr>\n",
       "      <th>1</th>\n",
       "      <td>2019-07-24</td>\n",
       "      <td>266.070007</td>\n",
       "      <td>258.160004</td>\n",
       "      <td>259.170013</td>\n",
       "      <td>264.880005</td>\n",
       "      <td>11072800</td>\n",
       "      <td>264.880005</td>\n",
       "    </tr>\n",
       "    <tr>\n",
       "      <th>2</th>\n",
       "      <td>2019-07-25</td>\n",
       "      <td>234.500000</td>\n",
       "      <td>225.550003</td>\n",
       "      <td>233.500000</td>\n",
       "      <td>228.820007</td>\n",
       "      <td>22418300</td>\n",
       "      <td>228.820007</td>\n",
       "    </tr>\n",
       "    <tr>\n",
       "      <th>3</th>\n",
       "      <td>2019-07-26</td>\n",
       "      <td>230.259995</td>\n",
       "      <td>222.250000</td>\n",
       "      <td>226.919998</td>\n",
       "      <td>228.039993</td>\n",
       "      <td>10027700</td>\n",
       "      <td>228.039993</td>\n",
       "    </tr>\n",
       "    <tr>\n",
       "      <th>4</th>\n",
       "      <td>2019-07-29</td>\n",
       "      <td>235.940002</td>\n",
       "      <td>226.029999</td>\n",
       "      <td>227.089996</td>\n",
       "      <td>235.770004</td>\n",
       "      <td>9273300</td>\n",
       "      <td>235.770004</td>\n",
       "    </tr>\n",
       "  </tbody>\n",
       "</table>\n",
       "</div>"
      ],
      "text/plain": [
       "         Date        High         Low        Open       Close    Volume  \\\n",
       "0  2019-07-23  260.480011  254.500000  256.709991  260.170013   5023100   \n",
       "1  2019-07-24  266.070007  258.160004  259.170013  264.880005  11072800   \n",
       "2  2019-07-25  234.500000  225.550003  233.500000  228.820007  22418300   \n",
       "3  2019-07-26  230.259995  222.250000  226.919998  228.039993  10027700   \n",
       "4  2019-07-29  235.940002  226.029999  227.089996  235.770004   9273300   \n",
       "\n",
       "    Adj Close  \n",
       "0  260.170013  \n",
       "1  264.880005  \n",
       "2  228.820007  \n",
       "3  228.039993  \n",
       "4  235.770004  "
      ]
     },
     "execution_count": 412,
     "metadata": {},
     "output_type": "execute_result"
    }
   ],
   "source": [
    "TSLA_data.head()"
   ]
  },
  {
   "cell_type": "code",
   "execution_count": 440,
   "metadata": {},
   "outputs": [],
   "source": [
    "TSLA_data['Date'] = pd.to_datetime(TSLA_data['Date'])"
   ]
  },
  {
   "cell_type": "code",
   "execution_count": 441,
   "metadata": {},
   "outputs": [
    {
     "name": "stdout",
     "output_type": "stream",
     "text": [
      "<class 'pandas.core.frame.DataFrame'>\n",
      "RangeIndex: 254 entries, 0 to 253\n",
      "Data columns (total 7 columns):\n",
      " #   Column     Non-Null Count  Dtype         \n",
      "---  ------     --------------  -----         \n",
      " 0   Date       254 non-null    datetime64[ns]\n",
      " 1   High       254 non-null    float64       \n",
      " 2   Low        254 non-null    float64       \n",
      " 3   Open       254 non-null    float64       \n",
      " 4   Close      254 non-null    float64       \n",
      " 5   Volume     254 non-null    int64         \n",
      " 6   Adj Close  254 non-null    float64       \n",
      "dtypes: datetime64[ns](1), float64(5), int64(1)\n",
      "memory usage: 14.0 KB\n"
     ]
    }
   ],
   "source": [
    "# Checking if there are any null values or not\n",
    "\n",
    "TSLA_data.info()"
   ]
  },
  {
   "cell_type": "code",
   "execution_count": 442,
   "metadata": {},
   "outputs": [
    {
     "data": {
      "text/html": [
       "<div>\n",
       "<style scoped>\n",
       "    .dataframe tbody tr th:only-of-type {\n",
       "        vertical-align: middle;\n",
       "    }\n",
       "\n",
       "    .dataframe tbody tr th {\n",
       "        vertical-align: top;\n",
       "    }\n",
       "\n",
       "    .dataframe thead th {\n",
       "        text-align: right;\n",
       "    }\n",
       "</style>\n",
       "<table border=\"1\" class=\"dataframe\">\n",
       "  <thead>\n",
       "    <tr style=\"text-align: right;\">\n",
       "      <th></th>\n",
       "      <th>High</th>\n",
       "      <th>Low</th>\n",
       "      <th>Open</th>\n",
       "      <th>Close</th>\n",
       "      <th>Volume</th>\n",
       "      <th>Adj Close</th>\n",
       "    </tr>\n",
       "  </thead>\n",
       "  <tbody>\n",
       "    <tr>\n",
       "      <th>count</th>\n",
       "      <td>254.000000</td>\n",
       "      <td>254.000000</td>\n",
       "      <td>254.000000</td>\n",
       "      <td>254.000000</td>\n",
       "      <td>2.540000e+02</td>\n",
       "      <td>254.000000</td>\n",
       "    </tr>\n",
       "    <tr>\n",
       "      <th>mean</th>\n",
       "      <td>587.105276</td>\n",
       "      <td>554.432520</td>\n",
       "      <td>570.865985</td>\n",
       "      <td>571.535197</td>\n",
       "      <td>1.356141e+07</td>\n",
       "      <td>571.535197</td>\n",
       "    </tr>\n",
       "    <tr>\n",
       "      <th>std</th>\n",
       "      <td>351.515528</td>\n",
       "      <td>324.236697</td>\n",
       "      <td>339.584695</td>\n",
       "      <td>337.925438</td>\n",
       "      <td>8.343364e+06</td>\n",
       "      <td>337.925438</td>\n",
       "    </tr>\n",
       "    <tr>\n",
       "      <th>min</th>\n",
       "      <td>215.020004</td>\n",
       "      <td>211.000000</td>\n",
       "      <td>213.600006</td>\n",
       "      <td>211.399994</td>\n",
       "      <td>2.465600e+06</td>\n",
       "      <td>211.399994</td>\n",
       "    </tr>\n",
       "    <tr>\n",
       "      <th>25%</th>\n",
       "      <td>263.294991</td>\n",
       "      <td>257.230011</td>\n",
       "      <td>259.552513</td>\n",
       "      <td>260.620010</td>\n",
       "      <td>7.449575e+06</td>\n",
       "      <td>260.620010</td>\n",
       "    </tr>\n",
       "    <tr>\n",
       "      <th>50%</th>\n",
       "      <td>506.244995</td>\n",
       "      <td>473.285004</td>\n",
       "      <td>487.645004</td>\n",
       "      <td>481.449997</td>\n",
       "      <td>1.184850e+07</td>\n",
       "      <td>481.449997</td>\n",
       "    </tr>\n",
       "    <tr>\n",
       "      <th>75%</th>\n",
       "      <td>811.472473</td>\n",
       "      <td>763.467499</td>\n",
       "      <td>790.304977</td>\n",
       "      <td>788.865021</td>\n",
       "      <td>1.721792e+07</td>\n",
       "      <td>788.865021</td>\n",
       "    </tr>\n",
       "    <tr>\n",
       "      <th>max</th>\n",
       "      <td>1794.989990</td>\n",
       "      <td>1562.000000</td>\n",
       "      <td>1678.949951</td>\n",
       "      <td>1643.000000</td>\n",
       "      <td>6.093880e+07</td>\n",
       "      <td>1643.000000</td>\n",
       "    </tr>\n",
       "  </tbody>\n",
       "</table>\n",
       "</div>"
      ],
      "text/plain": [
       "              High          Low         Open        Close        Volume  \\\n",
       "count   254.000000   254.000000   254.000000   254.000000  2.540000e+02   \n",
       "mean    587.105276   554.432520   570.865985   571.535197  1.356141e+07   \n",
       "std     351.515528   324.236697   339.584695   337.925438  8.343364e+06   \n",
       "min     215.020004   211.000000   213.600006   211.399994  2.465600e+06   \n",
       "25%     263.294991   257.230011   259.552513   260.620010  7.449575e+06   \n",
       "50%     506.244995   473.285004   487.645004   481.449997  1.184850e+07   \n",
       "75%     811.472473   763.467499   790.304977   788.865021  1.721792e+07   \n",
       "max    1794.989990  1562.000000  1678.949951  1643.000000  6.093880e+07   \n",
       "\n",
       "         Adj Close  \n",
       "count   254.000000  \n",
       "mean    571.535197  \n",
       "std     337.925438  \n",
       "min     211.399994  \n",
       "25%     260.620010  \n",
       "50%     481.449997  \n",
       "75%     788.865021  \n",
       "max    1643.000000  "
      ]
     },
     "execution_count": 442,
     "metadata": {},
     "output_type": "execute_result"
    }
   ],
   "source": [
    "TSLA_data.describe()"
   ]
  },
  {
   "cell_type": "code",
   "execution_count": 443,
   "metadata": {},
   "outputs": [
    {
     "data": {
      "image/png": "[encoded data removed]",
      "text/plain": [
       "<Figure size 720x360 with 1 Axes>"
      ]
     },
     "metadata": {},
     "output_type": "display_data"
    }
   ],
   "source": [
    "# Plotting Adjusted Closing price for Tesla Motors Stock\n",
    "\n",
    "TSLA_data['Adj Close'].plot(legend=True,figsize=(10,5))\n",
    "plt.show()"
   ]
  },
  {
   "cell_type": "code",
   "execution_count": 444,
   "metadata": {},
   "outputs": [
    {
     "data": {
      "image/png": "[encoded data removed]",
      "text/plain": [
       "<Figure size 864x288 with 1 Axes>"
      ]
     },
     "metadata": {},
     "output_type": "display_data"
    }
   ],
   "source": [
    "# Plotting Volume for Tesla Motors Stock\n",
    "\n",
    "TSLA_data['Volume'].plot(legend=True,figsize=(12,4))\n",
    "plt.show()"
   ]
  },
  {
   "cell_type": "code",
   "execution_count": 445,
   "metadata": {},
   "outputs": [
    {
     "data": {
      "image/png": "[encoded data removed]",
      "text/plain": [
       "<Figure size 864x288 with 1 Axes>"
      ]
     },
     "metadata": {},
     "output_type": "display_data"
    }
   ],
   "source": [
    "# Plotting Closing price for Tesla Motors Stock\n",
    "\n",
    "TSLA_data['Close'].plot(legend=True,figsize=(12,4))\n",
    "plt.show()"
   ]
  },
  {
   "cell_type": "code",
   "execution_count": 446,
   "metadata": {},
   "outputs": [
    {
     "data": {
      "image/png": "[encoded data removed]",
      "text/plain": [
       "<Figure size 720x288 with 1 Axes>"
      ]
     },
     "metadata": {},
     "output_type": "display_data"
    }
   ],
   "source": [
    "TSLA_data[['Open','High','Low','Close','Adj Close']].plot(kind = 'area',figsize = (10,4))\n",
    "plt.show()"
   ]
  },
  {
   "cell_type": "code",
   "execution_count": 447,
   "metadata": {},
   "outputs": [
    {
     "data": {
      "image/png": "[encoded data removed]",
      "text/plain": [
       "<Figure size 720x504 with 1 Axes>"
      ]
     },
     "metadata": {},
     "output_type": "display_data"
    }
   ],
   "source": [
    "TSLA[['Open','High','Low','Close','Adj Close']].plot(kind = 'box',figsize = (10,7))\n",
    "plt.show()"
   ]
  },
  {
   "cell_type": "code",
   "execution_count": 498,
   "metadata": {},
   "outputs": [],
   "source": [
    "# setting layout\n",
    "layout = go.Layout(title = \"Tesla's Stock Prices\", xaxis = dict(title = 'Date'), yaxis = dict(title = 'Price'))"
   ]
  },
  {
   "cell_type": "markdown",
   "metadata": {},
   "source": [
    " ### Tesla's Stock Prices Over Last One Year"
   ]
  },
  {
   "cell_type": "code",
   "execution_count": 499,
   "metadata": {},
   "outputs": [
    {
     "data": {
      "application/vnd.plotly.v1+json": {
       "config": {
        "linkText": "Export to plot.ly",
        "plotlyServerURL": "https://plot.ly",
        "showLink": false
       },
       "data": [
        {
         "type": "scatter",
         "x": [
          "2019-07-23T00:00:00",
          "2019-07-24T00:00:00",
          "2019-07-25T00:00:00",
          "2019-07-26T00:00:00",
          "2019-07-29T00:00:00",
          "2019-07-30T00:00:00",
          "2019-07-31T00:00:00",
          "2019-08-01T00:00:00",
          "2019-08-02T00:00:00",
          "2019-08-05T00:00:00",
          "2019-08-06T00:00:00",
          "2019-08-07T00:00:00",
          "2019-08-08T00:00:00",
          "2019-08-09T00:00:00",
          "2019-08-12T00:00:00",
          "2019-08-13T00:00:00",
          "2019-08-14T00:00:00",
          "2019-08-15T00:00:00",
          "2019-08-16T00:00:00",
          "2019-08-19T00:00:00",
          "2019-08-20T00:00:00",
          "2019-08-21T00:00:00",
          "2019-08-22T00:00:00",
          "2019-08-23T00:00:00",
          "2019-08-26T00:00:00",
          "2019-08-27T00:00:00",
          "2019-08-28T00:00:00",
          "2019-08-29T00:00:00",
          "2019-08-30T00:00:00",
          "2019-09-03T00:00:00",
          "2019-09-04T00:00:00",
          "2019-09-05T00:00:00",
          "2019-09-06T00:00:00",
          "2019-09-09T00:00:00",
          "2019-09-10T00:00:00",
          "2019-09-11T00:00:00",
          "2019-09-12T00:00:00",
          "2019-09-13T00:00:00",
          "2019-09-16T00:00:00",
          "2019-09-17T00:00:00",
          "2019-09-18T00:00:00",
          "2019-09-19T00:00:00",
          "2019-09-20T00:00:00",
          "2019-09-23T00:00:00",
          "2019-09-24T00:00:00",
          "2019-09-25T00:00:00",
          "2019-09-26T00:00:00",
          "2019-09-27T00:00:00",
          "2019-09-30T00:00:00",
          "2019-10-01T00:00:00",
          "2019-10-02T00:00:00",
          "2019-10-03T00:00:00",
          "2019-10-04T00:00:00",
          "2019-10-07T00:00:00",
          "2019-10-08T00:00:00",
          "2019-10-09T00:00:00",
          "2019-10-10T00:00:00",
          "2019-10-11T00:00:00",
          "2019-10-14T00:00:00",
          "2019-10-15T00:00:00",
          "2019-10-16T00:00:00",
          "2019-10-17T00:00:00",
          "2019-10-18T00:00:00",
          "2019-10-21T00:00:00",
          "2019-10-22T00:00:00",
          "2019-10-23T00:00:00",
          "2019-10-24T00:00:00",
          "2019-10-25T00:00:00",
          "2019-10-28T00:00:00",
          "2019-10-29T00:00:00",
          "2019-10-30T00:00:00",
          "2019-10-31T00:00:00",
          "2019-11-01T00:00:00",
          "2019-11-04T00:00:00",
          "2019-11-05T00:00:00",
          "2019-11-06T00:00:00",
          "2019-11-07T00:00:00",
          "2019-11-08T00:00:00",
          "2019-11-11T00:00:00",
          "2019-11-12T00:00:00",
          "2019-11-13T00:00:00",
          "2019-11-14T00:00:00",
          "2019-11-15T00:00:00",
          "2019-11-18T00:00:00",
          "2019-11-19T00:00:00",
          "2019-11-20T00:00:00",
          "2019-11-21T00:00:00",
          "2019-11-22T00:00:00",
          "2019-11-25T00:00:00",
          "2019-11-26T00:00:00",
          "2019-11-27T00:00:00",
          "2019-11-29T00:00:00",
          "2019-12-02T00:00:00",
          "2019-12-03T00:00:00",
          "2019-12-04T00:00:00",
          "2019-12-05T00:00:00",
          "2019-12-06T00:00:00",
          "2019-12-09T00:00:00",
          "2019-12-10T00:00:00",
          "2019-12-11T00:00:00",
          "2019-12-12T00:00:00",
          "2019-12-13T00:00:00",
          "2019-12-16T00:00:00",
          "2019-12-17T00:00:00",
          "2019-12-18T00:00:00",
          "2019-12-19T00:00:00",
          "2019-12-20T00:00:00",
          "2019-12-23T00:00:00",
          "2019-12-24T00:00:00",
          "2019-12-26T00:00:00",
          "2019-12-27T00:00:00",
          "2019-12-30T00:00:00",
          "2019-12-31T00:00:00",
          "2020-01-02T00:00:00",
          "2020-01-03T00:00:00",
          "2020-01-06T00:00:00",
          "2020-01-07T00:00:00",
          "2020-01-08T00:00:00",
          "2020-01-09T00:00:00",
          "2020-01-10T00:00:00",
          "2020-01-13T00:00:00",
          "2020-01-14T00:00:00",
          "2020-01-15T00:00:00",
          "2020-01-16T00:00:00",
          "2020-01-17T00:00:00",
          "2020-01-21T00:00:00",
          "2020-01-22T00:00:00",
          "2020-01-23T00:00:00",
          "2020-01-24T00:00:00",
          "2020-01-27T00:00:00",
          "2020-01-28T00:00:00",
          "2020-01-29T00:00:00",
          "2020-01-30T00:00:00",
          "2020-01-31T00:00:00",
          "2020-02-03T00:00:00",
          "2020-02-04T00:00:00",
          "2020-02-05T00:00:00",
          "2020-02-06T00:00:00",
          "2020-02-07T00:00:00",
          "2020-02-10T00:00:00",
          "2020-02-11T00:00:00",
          "2020-02-12T00:00:00",
          "2020-02-13T00:00:00",
          "2020-02-14T00:00:00",
          "2020-02-18T00:00:00",
          "2020-02-19T00:00:00",
          "2020-02-20T00:00:00",
          "2020-02-21T00:00:00",
          "2020-02-24T00:00:00",
          "2020-02-25T00:00:00",
          "2020-02-26T00:00:00",
          "2020-02-27T00:00:00",
          "2020-02-28T00:00:00",
          "2020-03-02T00:00:00",
          "2020-03-03T00:00:00",
          "2020-03-04T00:00:00",
          "2020-03-05T00:00:00",
          "2020-03-06T00:00:00",
          "2020-03-09T00:00:00",
          "2020-03-10T00:00:00",
          "2020-03-11T00:00:00",
          "2020-03-12T00:00:00",
          "2020-03-13T00:00:00",
          "2020-03-16T00:00:00",
          "2020-03-17T00:00:00",
          "2020-03-18T00:00:00",
          "2020-03-19T00:00:00",
          "2020-03-20T00:00:00",
          "2020-03-23T00:00:00",
          "2020-03-24T00:00:00",
          "2020-03-25T00:00:00",
          "2020-03-26T00:00:00",
          "2020-03-27T00:00:00",
          "2020-03-30T00:00:00",
          "2020-03-31T00:00:00",
          "2020-04-01T00:00:00",
          "2020-04-02T00:00:00",
          "2020-04-03T00:00:00",
          "2020-04-06T00:00:00",
          "2020-04-07T00:00:00",
          "2020-04-08T00:00:00",
          "2020-04-09T00:00:00",
          "2020-04-13T00:00:00",
          "2020-04-14T00:00:00",
          "2020-04-15T00:00:00",
          "2020-04-16T00:00:00",
          "2020-04-17T00:00:00",
          "2020-04-20T00:00:00",
          "2020-04-21T00:00:00",
          "2020-04-22T00:00:00",
          "2020-04-23T00:00:00",
          "2020-04-24T00:00:00",
          "2020-04-27T00:00:00",
          "2020-04-28T00:00:00",
          "2020-04-29T00:00:00",
          "2020-04-30T00:00:00",
          "2020-05-01T00:00:00",
          "2020-05-04T00:00:00",
          "2020-05-05T00:00:00",
          "2020-05-06T00:00:00",
          "2020-05-07T00:00:00",
          "2020-05-08T00:00:00",
          "2020-05-11T00:00:00",
          "2020-05-12T00:00:00",
          "2020-05-13T00:00:00",
          "2020-05-14T00:00:00",
          "2020-05-15T00:00:00",
          "2020-05-18T00:00:00",
          "2020-05-19T00:00:00",
          "2020-05-20T00:00:00",
          "2020-05-21T00:00:00",
          "2020-05-22T00:00:00",
          "2020-05-26T00:00:00",
          "2020-05-27T00:00:00",
          "2020-05-28T00:00:00",
          "2020-05-29T00:00:00",
          "2020-06-01T00:00:00",
          "2020-06-02T00:00:00",
          "2020-06-03T00:00:00",
          "2020-06-04T00:00:00",
          "2020-06-05T00:00:00",
          "2020-06-08T00:00:00",
          "2020-06-09T00:00:00",
          "2020-06-10T00:00:00",
          "2020-06-11T00:00:00",
          "2020-06-12T00:00:00",
          "2020-06-15T00:00:00",
          "2020-06-16T00:00:00",
          "2020-06-17T00:00:00",
          "2020-06-18T00:00:00",
          "2020-06-19T00:00:00",
          "2020-06-22T00:00:00",
          "2020-06-23T00:00:00",
          "2020-06-24T00:00:00",
          "2020-06-25T00:00:00",
          "2020-06-26T00:00:00",
          "2020-06-29T00:00:00",
          "2020-06-30T00:00:00",
          "2020-07-01T00:00:00",
          "2020-07-02T00:00:00",
          "2020-07-06T00:00:00",
          "2020-07-07T00:00:00",
          "2020-07-08T00:00:00",
          "2020-07-09T00:00:00",
          "2020-07-10T00:00:00",
          "2020-07-13T00:00:00",
          "2020-07-14T00:00:00",
          "2020-07-15T00:00:00",
          "2020-07-16T00:00:00",
          "2020-07-17T00:00:00",
          "2020-07-20T00:00:00",
          "2020-07-21T00:00:00",
          "2020-07-22T00:00:00",
          "2020-07-23T00:00:00"
         ],
         "y": [
          260.17001342773443,
          264.8800048828125,
          228.82000732421875,
          228.0399932861328,
          235.7700042724609,
          242.25999450683597,
          241.6100006103516,
          233.8500061035156,
          234.33999633789062,
          228.32000732421875,
          230.75,
          233.4199981689453,
          238.3000030517578,
          235.00999450683597,
          229.00999450683597,
          235,
          219.6199951171875,
          215.63999938964844,
          219.94000244140625,
          226.8300018310547,
          225.8600006103516,
          220.8300018310547,
          222.1499938964844,
          211.3999938964844,
          215,
          214.0800018310547,
          215.58999633789062,
          221.7100067138672,
          225.6100006103516,
          225.00999450683597,
          220.67999267578125,
          229.5800018310547,
          227.4499969482422,
          231.7899932861328,
          235.5399932861328,
          247.1000061035156,
          245.8699951171875,
          245.1999969482422,
          242.80999755859372,
          244.7899932861328,
          243.4900054931641,
          246.6000061035156,
          240.6199951171875,
          241.22999572753903,
          223.2100067138672,
          228.6999969482422,
          242.55999755859372,
          242.1300048828125,
          240.8699951171875,
          244.69000244140625,
          243.1300048828125,
          233.02999877929688,
          231.42999267578125,
          237.72000122070312,
          240.0500030517578,
          244.52999877929688,
          244.7400054931641,
          247.88999938964844,
          256.95999145507807,
          257.8900146484375,
          259.75,
          261.97000122070307,
          256.95001220703125,
          253.5,
          255.5800018310547,
          254.67999267578125,
          299.67999267578125,
          328.1300048828125,
          327.7099914550781,
          316.2200012207031,
          315.010009765625,
          314.9200134277344,
          313.30999755859375,
          317.4700012207031,
          317.2200012207031,
          326.5799865722656,
          335.5400085449219,
          337.1400146484375,
          345.0899963378906,
          349.92999267578125,
          346.1099853515625,
          349.3500061035156,
          352.1700134277344,
          349.989990234375,
          359.5199890136719,
          352.2200012207031,
          354.8299865722656,
          333.0400085449219,
          336.3399963378906,
          328.9200134277344,
          331.2900085449219,
          329.94000244140625,
          334.8699951171875,
          336.20001220703125,
          333.0299987792969,
          330.3699951171875,
          335.8900146484375,
          339.5299987792969,
          348.8399963378906,
          352.70001220703125,
          359.67999267578125,
          358.3900146484375,
          381.5,
          378.989990234375,
          393.1499938964844,
          404.0400085449219,
          405.5899963378906,
          419.2200012207031,
          425.25,
          430.9400024414063,
          430.3800048828125,
          414.70001220703125,
          418.3299865722656,
          430.260009765625,
          443.010009765625,
          451.5400085449219,
          469.05999755859375,
          492.1400146484375,
          481.3399963378906,
          478.1499938964844,
          524.8599853515625,
          537.9199829101561,
          518.5,
          513.489990234375,
          510.5,
          547.2000122070311,
          569.5599975585938,
          572.2000122070312,
          564.8200073242188,
          558.02001953125,
          566.9000244140625,
          580.989990234375,
          640.8099975585938,
          650.5700073242188,
          780,
          887.0599975585938,
          734.7000122070312,
          748.9600219726562,
          748.0700073242188,
          771.280029296875,
          774.3800048828125,
          767.2899780273438,
          804,
          800.030029296875,
          858.4000244140625,
          917.4199829101562,
          899.4099731445312,
          901,
          833.7899780273438,
          799.9099731445312,
          778.7999877929688,
          679,
          667.989990234375,
          743.6199951171875,
          745.510009765625,
          749.5,
          724.5399780273438,
          703.47998046875,
          608,
          645.3300170898438,
          634.22998046875,
          560.5499877929689,
          546.6199951171875,
          445.0700073242188,
          430.20001220703125,
          361.2200012207031,
          427.6400146484375,
          427.5299987792969,
          434.2900085449219,
          505,
          539.25,
          528.1599731445311,
          514.3599853515625,
          502.1300048828125,
          524,
          481.55999755859375,
          454.4700012207031,
          480.010009765625,
          516.239990234375,
          545.4500122070311,
          548.8400268554689,
          573,
          650.9500122070312,
          709.8900146484375,
          729.8300170898438,
          745.2100219726562,
          753.8900146484375,
          746.3599853515625,
          686.719970703125,
          732.1099853515625,
          705.6300048828125,
          725.1500244140625,
          798.75,
          769.1199951171875,
          800.510009765625,
          781.8800048828125,
          701.3200073242188,
          761.1900024414062,
          768.2100219726562,
          782.5800170898438,
          780.0399780273438,
          819.4199829101562,
          811.2899780273438,
          809.4099731445312,
          790.9600219726562,
          803.3300170898438,
          799.1699829101562,
          813.6300048828125,
          808.010009765625,
          815.5599975585938,
          827.5999755859375,
          816.8800048828125,
          818.8699951171875,
          820.22998046875,
          805.8099975585938,
          835,
          898.0999755859375,
          881.5599975585938,
          882.9600219726562,
          864.3800048828125,
          885.6599731445312,
          949.9199829101562,
          940.6699829101562,
          1025.050048828125,
          972.8400268554688,
          935.280029296875,
          990.9000244140624,
          982.1300048828124,
          991.7899780273438,
          1003.9600219726562,
          1000.9000244140624,
          994.3200073242188,
          1001.780029296875,
          960.8499755859376,
          985.97998046875,
          959.739990234375,
          1009.3499755859376,
          1079.81005859375,
          1119.6300048828123,
          1208.6600341796875,
          1371.5799560546875,
          1389.8599853515625,
          1365.8800048828125,
          1394.280029296875,
          1544.6500244140625,
          1497.06005859375,
          1516.800048828125,
          1546.010009765625,
          1500.6400146484375,
          1500.8399658203125,
          1643,
          1568.3599853515625,
          1592.3299560546875,
          1511.9998779296875
         ]
        }
       ],
       "layout": {
        "template": {
         "data": {
          "bar": [
           {
            "error_x": {
             "color": "#2a3f5f"
            },
            "error_y": {
             "color": "#2a3f5f"
            },
            "marker": {
             "line": {
              "color": "#E5ECF6",
              "width": 0.5
             }
            },
            "type": "bar"
           }
          ],
          "barpolar": [
           {
            "marker": {
             "line": {
              "color": "#E5ECF6",
              "width": 0.5
             }
            },
            "type": "barpolar"
           }
          ],
          "carpet": [
           {
            "aaxis": {
             "endlinecolor": "#2a3f5f",
             "gridcolor": "white",
             "linecolor": "white",
             "minorgridcolor": "white",
             "startlinecolor": "#2a3f5f"
            },
            "baxis": {
             "endlinecolor": "#2a3f5f",
             "gridcolor": "white",
             "linecolor": "white",
             "minorgridcolor": "white",
             "startlinecolor": "#2a3f5f"
            },
            "type": "carpet"
           }
          ],
          "choropleth": [
           {
            "colorbar": {
             "outlinewidth": 0,
             "ticks": ""
            },
            "type": "choropleth"
           }
          ],
          "contour": [
           {
            "colorbar": {
             "outlinewidth": 0,
             "ticks": ""
            },
            "colorscale": [
             [
              0,
              "#0d0887"
             ],
             [
              0.1111111111111111,
              "#46039f"
             ],
             [
              0.2222222222222222,
              "#7201a8"
             ],
             [
              0.3333333333333333,
              "#9c179e"
             ],
             [
              0.4444444444444444,
              "#bd3786"
             ],
             [
              0.5555555555555556,
              "#d8576b"
             ],
             [
              0.6666666666666666,
              "#ed7953"
             ],
             [
              0.7777777777777778,
              "#fb9f3a"
             ],
             [
              0.8888888888888888,
              "#fdca26"
             ],
             [
              1,
              "#f0f921"
             ]
            ],
            "type": "contour"
           }
          ],
          "contourcarpet": [
           {
            "colorbar": {
             "outlinewidth": 0,
             "ticks": ""
            },
            "type": "contourcarpet"
           }
          ],
          "heatmap": [
           {
            "colorbar": {
             "outlinewidth": 0,
             "ticks": ""
            },
            "colorscale": [
             [
              0,
              "#0d0887"
             ],
             [
              0.1111111111111111,
              "#46039f"
             ],
             [
              0.2222222222222222,
              "#7201a8"
             ],
             [
              0.3333333333333333,
              "#9c179e"
             ],
             [
              0.4444444444444444,
              "#bd3786"
             ],
             [
              0.5555555555555556,
              "#d8576b"
             ],
             [
              0.6666666666666666,
              "#ed7953"
             ],
             [
              0.7777777777777778,
              "#fb9f3a"
             ],
             [
              0.8888888888888888,
              "#fdca26"
             ],
             [
              1,
              "#f0f921"
             ]
            ],
            "type": "heatmap"
           }
          ],
          "heatmapgl": [
           {
            "colorbar": {
             "outlinewidth": 0,
             "ticks": ""
            },
            "colorscale": [
             [
              0,
              "#0d0887"
             ],
             [
              0.1111111111111111,
              "#46039f"
             ],
             [
              0.2222222222222222,
              "#7201a8"
             ],
             [
              0.3333333333333333,
              "#9c179e"
             ],
             [
              0.4444444444444444,
              "#bd3786"
             ],
             [
              0.5555555555555556,
              "#d8576b"
             ],
             [
              0.6666666666666666,
              "#ed7953"
             ],
             [
              0.7777777777777778,
              "#fb9f3a"
             ],
             [
              0.8888888888888888,
              "#fdca26"
             ],
             [
              1,
              "#f0f921"
             ]
            ],
            "type": "heatmapgl"
           }
          ],
          "histogram": [
           {
            "marker": {
             "colorbar": {
              "outlinewidth": 0,
              "ticks": ""
             }
            },
            "type": "histogram"
           }
          ],
          "histogram2d": [
           {
            "colorbar": {
             "outlinewidth": 0,
             "ticks": ""
            },
            "colorscale": [
             [
              0,
              "#0d0887"
             ],
             [
              0.1111111111111111,
              "#46039f"
             ],
             [
              0.2222222222222222,
              "#7201a8"
             ],
             [
              0.3333333333333333,
              "#9c179e"
             ],
             [
              0.4444444444444444,
              "#bd3786"
             ],
             [
              0.5555555555555556,
              "#d8576b"
             ],
             [
              0.6666666666666666,
              "#ed7953"
             ],
             [
              0.7777777777777778,
              "#fb9f3a"
             ],
             [
              0.8888888888888888,
              "#fdca26"
             ],
             [
              1,
              "#f0f921"
             ]
            ],
            "type": "histogram2d"
           }
          ],
          "histogram2dcontour": [
           {
            "colorbar": {
             "outlinewidth": 0,
             "ticks": ""
            },
            "colorscale": [
             [
              0,
              "#0d0887"
             ],
             [
              0.1111111111111111,
              "#46039f"
             ],
             [
              0.2222222222222222,
              "#7201a8"
             ],
             [
              0.3333333333333333,
              "#9c179e"
             ],
             [
              0.4444444444444444,
              "#bd3786"
             ],
             [
              0.5555555555555556,
              "#d8576b"
             ],
             [
              0.6666666666666666,
              "#ed7953"
             ],
             [
              0.7777777777777778,
              "#fb9f3a"
             ],
             [
              0.8888888888888888,
              "#fdca26"
             ],
             [
              1,
              "#f0f921"
             ]
            ],
            "type": "histogram2dcontour"
           }
          ],
          "mesh3d": [
           {
            "colorbar": {
             "outlinewidth": 0,
             "ticks": ""
            },
            "type": "mesh3d"
           }
          ],
          "parcoords": [
           {
            "line": {
             "colorbar": {
              "outlinewidth": 0,
              "ticks": ""
             }
            },
            "type": "parcoords"
           }
          ],
          "pie": [
           {
            "automargin": true,
            "type": "pie"
           }
          ],
          "scatter": [
           {
            "marker": {
             "colorbar": {
              "outlinewidth": 0,
              "ticks": ""
             }
            },
            "type": "scatter"
           }
          ],
          "scatter3d": [
           {
            "line": {
             "colorbar": {
              "outlinewidth": 0,
              "ticks": ""
             }
            },
            "marker": {
             "colorbar": {
              "outlinewidth": 0,
              "ticks": ""
             }
            },
            "type": "scatter3d"
           }
          ],
          "scattercarpet": [
           {
            "marker": {
             "colorbar": {
              "outlinewidth": 0,
              "ticks": ""
             }
            },
            "type": "scattercarpet"
           }
          ],
          "scattergeo": [
           {
            "marker": {
             "colorbar": {
              "outlinewidth": 0,
              "ticks": ""
             }
            },
            "type": "scattergeo"
           }
          ],
          "scattergl": [
           {
            "marker": {
             "colorbar": {
              "outlinewidth": 0,
              "ticks": ""
             }
            },
            "type": "scattergl"
           }
          ],
          "scattermapbox": [
           {
            "marker": {
             "colorbar": {
              "outlinewidth": 0,
              "ticks": ""
             }
            },
            "type": "scattermapbox"
           }
          ],
          "scatterpolar": [
           {
            "marker": {
             "colorbar": {
              "outlinewidth": 0,
              "ticks": ""
             }
            },
            "type": "scatterpolar"
           }
          ],
          "scatterpolargl": [
           {
            "marker": {
             "colorbar": {
              "outlinewidth": 0,
              "ticks": ""
             }
            },
            "type": "scatterpolargl"
           }
          ],
          "scatterternary": [
           {
            "marker": {
             "colorbar": {
              "outlinewidth": 0,
              "ticks": ""
             }
            },
            "type": "scatterternary"
           }
          ],
          "surface": [
           {
            "colorbar": {
             "outlinewidth": 0,
             "ticks": ""
            },
            "colorscale": [
             [
              0,
              "#0d0887"
             ],
             [
              0.1111111111111111,
              "#46039f"
             ],
             [
              0.2222222222222222,
              "#7201a8"
             ],
             [
              0.3333333333333333,
              "#9c179e"
             ],
             [
              0.4444444444444444,
              "#bd3786"
             ],
             [
              0.5555555555555556,
              "#d8576b"
             ],
             [
              0.6666666666666666,
              "#ed7953"
             ],
             [
              0.7777777777777778,
              "#fb9f3a"
             ],
             [
              0.8888888888888888,
              "#fdca26"
             ],
             [
              1,
              "#f0f921"
             ]
            ],
            "type": "surface"
           }
          ],
          "table": [
           {
            "cells": {
             "fill": {
              "color": "#EBF0F8"
             },
             "line": {
              "color": "white"
             }
            },
            "header": {
             "fill": {
              "color": "#C8D4E3"
             },
             "line": {
              "color": "white"
             }
            },
            "type": "table"
           }
          ]
         },
         "layout": {
          "annotationdefaults": {
           "arrowcolor": "#2a3f5f",
           "arrowhead": 0,
           "arrowwidth": 1
          },
          "coloraxis": {
           "colorbar": {
            "outlinewidth": 0,
            "ticks": ""
           }
          },
          "colorscale": {
           "diverging": [
            [
             0,
             "#8e0152"
            ],
            [
             0.1,
             "#c51b7d"
            ],
            [
             0.2,
             "#de77ae"
            ],
            [
             0.3,
             "#f1b6da"
            ],
            [
             0.4,
             "#fde0ef"
            ],
            [
             0.5,
             "#f7f7f7"
            ],
            [
             0.6,
             "#e6f5d0"
            ],
            [
             0.7,
             "#b8e186"
            ],
            [
             0.8,
             "#7fbc41"
            ],
            [
             0.9,
             "#4d9221"
            ],
            [
             1,
             "#276419"
            ]
           ],
           "sequential": [
            [
             0,
             "#0d0887"
            ],
            [
             0.1111111111111111,
             "#46039f"
            ],
            [
             0.2222222222222222,
             "#7201a8"
            ],
            [
             0.3333333333333333,
             "#9c179e"
            ],
            [
             0.4444444444444444,
             "#bd3786"
            ],
            [
             0.5555555555555556,
             "#d8576b"
            ],
            [
             0.6666666666666666,
             "#ed7953"
            ],
            [
             0.7777777777777778,
             "#fb9f3a"
            ],
            [
             0.8888888888888888,
             "#fdca26"
            ],
            [
             1,
             "#f0f921"
            ]
           ],
           "sequentialminus": [
            [
             0,
             "#0d0887"
            ],
            [
             0.1111111111111111,
             "#46039f"
            ],
            [
             0.2222222222222222,
             "#7201a8"
            ],
            [
             0.3333333333333333,
             "#9c179e"
            ],
            [
             0.4444444444444444,
             "#bd3786"
            ],
            [
             0.5555555555555556,
             "#d8576b"
            ],
            [
             0.6666666666666666,
             "#ed7953"
            ],
            [
             0.7777777777777778,
             "#fb9f3a"
            ],
            [
             0.8888888888888888,
             "#fdca26"
            ],
            [
             1,
             "#f0f921"
            ]
           ]
          },
          "colorway": [
           "#636efa",
           "#EF553B",
           "#00cc96",
           "#ab63fa",
           "#FFA15A",
           "#19d3f3",
           "#FF6692",
           "#B6E880",
           "#FF97FF",
           "#FECB52"
          ],
          "font": {
           "color": "#2a3f5f"
          },
          "geo": {
           "bgcolor": "white",
           "lakecolor": "white",
           "landcolor": "#E5ECF6",
           "showlakes": true,
           "showland": true,
           "subunitcolor": "white"
          },
          "hoverlabel": {
           "align": "left"
          },
          "hovermode": "closest",
          "mapbox": {
           "style": "light"
          },
          "paper_bgcolor": "white",
          "plot_bgcolor": "#E5ECF6",
          "polar": {
           "angularaxis": {
            "gridcolor": "white",
            "linecolor": "white",
            "ticks": ""
           },
           "bgcolor": "#E5ECF6",
           "radialaxis": {
            "gridcolor": "white",
            "linecolor": "white",
            "ticks": ""
           }
          },
          "scene": {
           "xaxis": {
            "backgroundcolor": "#E5ECF6",
            "gridcolor": "white",
            "gridwidth": 2,
            "linecolor": "white",
            "showbackground": true,
            "ticks": "",
            "zerolinecolor": "white"
           },
           "yaxis": {
            "backgroundcolor": "#E5ECF6",
            "gridcolor": "white",
            "gridwidth": 2,
            "linecolor": "white",
            "showbackground": true,
            "ticks": "",
            "zerolinecolor": "white"
           },
           "zaxis": {
            "backgroundcolor": "#E5ECF6",
            "gridcolor": "white",
            "gridwidth": 2,
            "linecolor": "white",
            "showbackground": true,
            "ticks": "",
            "zerolinecolor": "white"
           }
          },
          "shapedefaults": {
           "line": {
            "color": "#2a3f5f"
           }
          },
          "ternary": {
           "aaxis": {
            "gridcolor": "white",
            "linecolor": "white",
            "ticks": ""
           },
           "baxis": {
            "gridcolor": "white",
            "linecolor": "white",
            "ticks": ""
           },
           "bgcolor": "#E5ECF6",
           "caxis": {
            "gridcolor": "white",
            "linecolor": "white",
            "ticks": ""
           }
          },
          "title": {
           "x": 0.05
          },
          "xaxis": {
           "automargin": true,
           "gridcolor": "white",
           "linecolor": "white",
           "ticks": "",
           "title": {
            "standoff": 15
           },
           "zerolinecolor": "white",
           "zerolinewidth": 2
          },
          "yaxis": {
           "automargin": true,
           "gridcolor": "white",
           "linecolor": "white",
           "ticks": "",
           "title": {
            "standoff": 15
           },
           "zerolinecolor": "white",
           "zerolinewidth": 2
          }
         }
        },
        "title": {
         "text": "Tesla's Stock Prices"
        },
        "xaxis": {
         "title": {
          "text": "Date"
         }
        },
        "yaxis": {
         "title": {
          "text": "Price"
         }
        }
       }
      },
      "text/html": [
       "<div>\n",
       "        \n",
       "        \n",
       "            <div id=\"7e84b800-1ad9-4d98-aac4-180087d8ad55\" class=\"plotly-graph-div\" style=\"height:525px; width:100%;\"></div>\n",
       "            <script type=\"text/javascript\">\n",
       "                require([\"plotly\"], function(Plotly) {\n",
       "                    window.PLOTLYENV=window.PLOTLYENV || {};\n",
       "                    \n",
       "                if (document.getElementById(\"7e84b800-1ad9-4d98-aac4-180087d8ad55\")) {\n",
       "                    Plotly.newPlot(\n",
       "                        '7e84b800-1ad9-4d98-aac4-180087d8ad55',\n",
       "                        [{\"type\": \"scatter\", \"x\": [\"2019-07-23T00:00:00\", \"2019-07-24T00:00:00\", \"2019-07-25T00:00:00\", \"2019-07-26T00:00:00\", \"2019-07-29T00:00:00\", \"2019-07-30T00:00:00\", \"2019-07-31T00:00:00\", \"2019-08-01T00:00:00\", \"2019-08-02T00:00:00\", \"2019-08-05T00:00:00\", \"2019-08-06T00:00:00\", \"2019-08-07T00:00:00\", \"2019-08-08T00:00:00\", \"2019-08-09T00:00:00\", \"2019-08-12T00:00:00\", \"2019-08-13T00:00:00\", \"2019-08-14T00:00:00\", \"2019-08-15T00:00:00\", \"2019-08-16T00:00:00\", \"2019-08-19T00:00:00\", \"2019-08-20T00:00:00\", \"2019-08-21T00:00:00\", \"2019-08-22T00:00:00\", \"2019-08-23T00:00:00\", \"2019-08-26T00:00:00\", \"2019-08-27T00:00:00\", \"2019-08-28T00:00:00\", \"2019-08-29T00:00:00\", \"2019-08-30T00:00:00\", \"2019-09-03T00:00:00\", \"2019-09-04T00:00:00\", \"2019-09-05T00:00:00\", \"2019-09-06T00:00:00\", \"2019-09-09T00:00:00\", \"2019-09-10T00:00:00\", \"2019-09-11T00:00:00\", \"2019-09-12T00:00:00\", \"2019-09-13T00:00:00\", \"2019-09-16T00:00:00\", \"2019-09-17T00:00:00\", \"2019-09-18T00:00:00\", \"2019-09-19T00:00:00\", \"2019-09-20T00:00:00\", \"2019-09-23T00:00:00\", \"2019-09-24T00:00:00\", \"2019-09-25T00:00:00\", \"2019-09-26T00:00:00\", \"2019-09-27T00:00:00\", \"2019-09-30T00:00:00\", \"2019-10-01T00:00:00\", \"2019-10-02T00:00:00\", \"2019-10-03T00:00:00\", \"2019-10-04T00:00:00\", \"2019-10-07T00:00:00\", \"2019-10-08T00:00:00\", \"2019-10-09T00:00:00\", \"2019-10-10T00:00:00\", \"2019-10-11T00:00:00\", \"2019-10-14T00:00:00\", \"2019-10-15T00:00:00\", \"2019-10-16T00:00:00\", \"2019-10-17T00:00:00\", \"2019-10-18T00:00:00\", \"2019-10-21T00:00:00\", \"2019-10-22T00:00:00\", \"2019-10-23T00:00:00\", \"2019-10-24T00:00:00\", \"2019-10-25T00:00:00\", \"2019-10-28T00:00:00\", \"2019-10-29T00:00:00\", \"2019-10-30T00:00:00\", \"2019-10-31T00:00:00\", \"2019-11-01T00:00:00\", \"2019-11-04T00:00:00\", \"2019-11-05T00:00:00\", \"2019-11-06T00:00:00\", \"2019-11-07T00:00:00\", \"2019-11-08T00:00:00\", \"2019-11-11T00:00:00\", \"2019-11-12T00:00:00\", \"2019-11-13T00:00:00\", \"2019-11-14T00:00:00\", \"2019-11-15T00:00:00\", \"2019-11-18T00:00:00\", \"2019-11-19T00:00:00\", \"2019-11-20T00:00:00\", \"2019-11-21T00:00:00\", \"2019-11-22T00:00:00\", \"2019-11-25T00:00:00\", \"2019-11-26T00:00:00\", \"2019-11-27T00:00:00\", \"2019-11-29T00:00:00\", \"2019-12-02T00:00:00\", \"2019-12-03T00:00:00\", \"2019-12-04T00:00:00\", \"2019-12-05T00:00:00\", \"2019-12-06T00:00:00\", \"2019-12-09T00:00:00\", \"2019-12-10T00:00:00\", \"2019-12-11T00:00:00\", \"2019-12-12T00:00:00\", \"2019-12-13T00:00:00\", \"2019-12-16T00:00:00\", \"2019-12-17T00:00:00\", \"2019-12-18T00:00:00\", \"2019-12-19T00:00:00\", \"2019-12-20T00:00:00\", \"2019-12-23T00:00:00\", \"2019-12-24T00:00:00\", \"2019-12-26T00:00:00\", \"2019-12-27T00:00:00\", \"2019-12-30T00:00:00\", \"2019-12-31T00:00:00\", \"2020-01-02T00:00:00\", \"2020-01-03T00:00:00\", \"2020-01-06T00:00:00\", \"2020-01-07T00:00:00\", \"2020-01-08T00:00:00\", \"2020-01-09T00:00:00\", \"2020-01-10T00:00:00\", \"2020-01-13T00:00:00\", \"2020-01-14T00:00:00\", \"2020-01-15T00:00:00\", \"2020-01-16T00:00:00\", \"2020-01-17T00:00:00\", \"2020-01-21T00:00:00\", \"2020-01-22T00:00:00\", \"2020-01-23T00:00:00\", \"2020-01-24T00:00:00\", \"2020-01-27T00:00:00\", \"2020-01-28T00:00:00\", \"2020-01-29T00:00:00\", \"2020-01-30T00:00:00\", \"2020-01-31T00:00:00\", \"2020-02-03T00:00:00\", \"2020-02-04T00:00:00\", \"2020-02-05T00:00:00\", \"2020-02-06T00:00:00\", \"2020-02-07T00:00:00\", \"2020-02-10T00:00:00\", \"2020-02-11T00:00:00\", \"2020-02-12T00:00:00\", \"2020-02-13T00:00:00\", \"2020-02-14T00:00:00\", \"2020-02-18T00:00:00\", \"2020-02-19T00:00:00\", \"2020-02-20T00:00:00\", \"2020-02-21T00:00:00\", \"2020-02-24T00:00:00\", \"2020-02-25T00:00:00\", \"2020-02-26T00:00:00\", \"2020-02-27T00:00:00\", \"2020-02-28T00:00:00\", \"2020-03-02T00:00:00\", \"2020-03-03T00:00:00\", \"2020-03-04T00:00:00\", \"2020-03-05T00:00:00\", \"2020-03-06T00:00:00\", \"2020-03-09T00:00:00\", \"2020-03-10T00:00:00\", \"2020-03-11T00:00:00\", \"2020-03-12T00:00:00\", \"2020-03-13T00:00:00\", \"2020-03-16T00:00:00\", \"2020-03-17T00:00:00\", \"2020-03-18T00:00:00\", \"2020-03-19T00:00:00\", \"2020-03-20T00:00:00\", \"2020-03-23T00:00:00\", \"2020-03-24T00:00:00\", \"2020-03-25T00:00:00\", \"2020-03-26T00:00:00\", \"2020-03-27T00:00:00\", \"2020-03-30T00:00:00\", \"2020-03-31T00:00:00\", \"2020-04-01T00:00:00\", \"2020-04-02T00:00:00\", \"2020-04-03T00:00:00\", \"2020-04-06T00:00:00\", \"2020-04-07T00:00:00\", \"2020-04-08T00:00:00\", \"2020-04-09T00:00:00\", \"2020-04-13T00:00:00\", \"2020-04-14T00:00:00\", \"2020-04-15T00:00:00\", \"2020-04-16T00:00:00\", \"2020-04-17T00:00:00\", \"2020-04-20T00:00:00\", \"2020-04-21T00:00:00\", \"2020-04-22T00:00:00\", \"2020-04-23T00:00:00\", \"2020-04-24T00:00:00\", \"2020-04-27T00:00:00\", \"2020-04-28T00:00:00\", \"2020-04-29T00:00:00\", \"2020-04-30T00:00:00\", \"2020-05-01T00:00:00\", \"2020-05-04T00:00:00\", \"2020-05-05T00:00:00\", \"2020-05-06T00:00:00\", \"2020-05-07T00:00:00\", \"2020-05-08T00:00:00\", \"2020-05-11T00:00:00\", \"2020-05-12T00:00:00\", \"2020-05-13T00:00:00\", \"2020-05-14T00:00:00\", \"2020-05-15T00:00:00\", \"2020-05-18T00:00:00\", \"2020-05-19T00:00:00\", \"2020-05-20T00:00:00\", \"2020-05-21T00:00:00\", \"2020-05-22T00:00:00\", \"2020-05-26T00:00:00\", \"2020-05-27T00:00:00\", \"2020-05-28T00:00:00\", \"2020-05-29T00:00:00\", \"2020-06-01T00:00:00\", \"2020-06-02T00:00:00\", \"2020-06-03T00:00:00\", \"2020-06-04T00:00:00\", \"2020-06-05T00:00:00\", \"2020-06-08T00:00:00\", \"2020-06-09T00:00:00\", \"2020-06-10T00:00:00\", \"2020-06-11T00:00:00\", \"2020-06-12T00:00:00\", \"2020-06-15T00:00:00\", \"2020-06-16T00:00:00\", \"2020-06-17T00:00:00\", \"2020-06-18T00:00:00\", \"2020-06-19T00:00:00\", \"2020-06-22T00:00:00\", \"2020-06-23T00:00:00\", \"2020-06-24T00:00:00\", \"2020-06-25T00:00:00\", \"2020-06-26T00:00:00\", \"2020-06-29T00:00:00\", \"2020-06-30T00:00:00\", \"2020-07-01T00:00:00\", \"2020-07-02T00:00:00\", \"2020-07-06T00:00:00\", \"2020-07-07T00:00:00\", \"2020-07-08T00:00:00\", \"2020-07-09T00:00:00\", \"2020-07-10T00:00:00\", \"2020-07-13T00:00:00\", \"2020-07-14T00:00:00\", \"2020-07-15T00:00:00\", \"2020-07-16T00:00:00\", \"2020-07-17T00:00:00\", \"2020-07-20T00:00:00\", \"2020-07-21T00:00:00\", \"2020-07-22T00:00:00\", \"2020-07-23T00:00:00\"], \"y\": [260.17001342773443, 264.8800048828125, 228.82000732421875, 228.0399932861328, 235.7700042724609, 242.25999450683597, 241.6100006103516, 233.8500061035156, 234.33999633789062, 228.32000732421875, 230.75, 233.4199981689453, 238.3000030517578, 235.00999450683597, 229.00999450683597, 235.0, 219.6199951171875, 215.63999938964844, 219.94000244140625, 226.8300018310547, 225.8600006103516, 220.8300018310547, 222.1499938964844, 211.3999938964844, 215.0, 214.0800018310547, 215.58999633789062, 221.7100067138672, 225.6100006103516, 225.00999450683597, 220.67999267578125, 229.5800018310547, 227.4499969482422, 231.7899932861328, 235.5399932861328, 247.1000061035156, 245.8699951171875, 245.1999969482422, 242.80999755859372, 244.7899932861328, 243.4900054931641, 246.6000061035156, 240.6199951171875, 241.22999572753903, 223.2100067138672, 228.6999969482422, 242.55999755859372, 242.1300048828125, 240.8699951171875, 244.69000244140625, 243.1300048828125, 233.02999877929688, 231.42999267578125, 237.72000122070312, 240.0500030517578, 244.52999877929688, 244.7400054931641, 247.88999938964844, 256.95999145507807, 257.8900146484375, 259.75, 261.97000122070307, 256.95001220703125, 253.5, 255.5800018310547, 254.67999267578125, 299.67999267578125, 328.1300048828125, 327.7099914550781, 316.2200012207031, 315.010009765625, 314.9200134277344, 313.30999755859375, 317.4700012207031, 317.2200012207031, 326.5799865722656, 335.5400085449219, 337.1400146484375, 345.0899963378906, 349.92999267578125, 346.1099853515625, 349.3500061035156, 352.1700134277344, 349.989990234375, 359.5199890136719, 352.2200012207031, 354.8299865722656, 333.0400085449219, 336.3399963378906, 328.9200134277344, 331.2900085449219, 329.94000244140625, 334.8699951171875, 336.20001220703125, 333.0299987792969, 330.3699951171875, 335.8900146484375, 339.5299987792969, 348.8399963378906, 352.70001220703125, 359.67999267578125, 358.3900146484375, 381.5, 378.989990234375, 393.1499938964844, 404.0400085449219, 405.5899963378906, 419.2200012207031, 425.25, 430.9400024414063, 430.3800048828125, 414.70001220703125, 418.3299865722656, 430.260009765625, 443.010009765625, 451.5400085449219, 469.05999755859375, 492.1400146484375, 481.3399963378906, 478.1499938964844, 524.8599853515625, 537.9199829101561, 518.5, 513.489990234375, 510.5, 547.2000122070311, 569.5599975585938, 572.2000122070312, 564.8200073242188, 558.02001953125, 566.9000244140625, 580.989990234375, 640.8099975585938, 650.5700073242188, 780.0, 887.0599975585938, 734.7000122070312, 748.9600219726562, 748.0700073242188, 771.280029296875, 774.3800048828125, 767.2899780273438, 804.0, 800.030029296875, 858.4000244140625, 917.4199829101562, 899.4099731445312, 901.0, 833.7899780273438, 799.9099731445312, 778.7999877929688, 679.0, 667.989990234375, 743.6199951171875, 745.510009765625, 749.5, 724.5399780273438, 703.47998046875, 608.0, 645.3300170898438, 634.22998046875, 560.5499877929689, 546.6199951171875, 445.0700073242188, 430.20001220703125, 361.2200012207031, 427.6400146484375, 427.5299987792969, 434.2900085449219, 505.0, 539.25, 528.1599731445311, 514.3599853515625, 502.1300048828125, 524.0, 481.55999755859375, 454.4700012207031, 480.010009765625, 516.239990234375, 545.4500122070311, 548.8400268554689, 573.0, 650.9500122070312, 709.8900146484375, 729.8300170898438, 745.2100219726562, 753.8900146484375, 746.3599853515625, 686.719970703125, 732.1099853515625, 705.6300048828125, 725.1500244140625, 798.75, 769.1199951171875, 800.510009765625, 781.8800048828125, 701.3200073242188, 761.1900024414062, 768.2100219726562, 782.5800170898438, 780.0399780273438, 819.4199829101562, 811.2899780273438, 809.4099731445312, 790.9600219726562, 803.3300170898438, 799.1699829101562, 813.6300048828125, 808.010009765625, 815.5599975585938, 827.5999755859375, 816.8800048828125, 818.8699951171875, 820.22998046875, 805.8099975585938, 835.0, 898.0999755859375, 881.5599975585938, 882.9600219726562, 864.3800048828125, 885.6599731445312, 949.9199829101562, 940.6699829101562, 1025.050048828125, 972.8400268554688, 935.280029296875, 990.9000244140624, 982.1300048828124, 991.7899780273438, 1003.9600219726562, 1000.9000244140624, 994.3200073242188, 1001.780029296875, 960.8499755859376, 985.97998046875, 959.739990234375, 1009.3499755859376, 1079.81005859375, 1119.6300048828123, 1208.6600341796875, 1371.5799560546875, 1389.8599853515625, 1365.8800048828125, 1394.280029296875, 1544.6500244140625, 1497.06005859375, 1516.800048828125, 1546.010009765625, 1500.6400146484375, 1500.8399658203125, 1643.0, 1568.3599853515625, 1592.3299560546875, 1511.9998779296875]}],\n",
       "                        {\"template\": {\"data\": {\"bar\": [{\"error_x\": {\"color\": \"#2a3f5f\"}, \"error_y\": {\"color\": \"#2a3f5f\"}, \"marker\": {\"line\": {\"color\": \"#E5ECF6\", \"width\": 0.5}}, \"type\": \"bar\"}], \"barpolar\": [{\"marker\": {\"line\": {\"color\": \"#E5ECF6\", \"width\": 0.5}}, \"type\": \"barpolar\"}], \"carpet\": [{\"aaxis\": {\"endlinecolor\": \"#2a3f5f\", \"gridcolor\": \"white\", \"linecolor\": \"white\", \"minorgridcolor\": \"white\", \"startlinecolor\": \"#2a3f5f\"}, \"baxis\": {\"endlinecolor\": \"#2a3f5f\", \"gridcolor\": \"white\", \"linecolor\": \"white\", \"minorgridcolor\": \"white\", \"startlinecolor\": \"#2a3f5f\"}, \"type\": \"carpet\"}], \"choropleth\": [{\"colorbar\": {\"outlinewidth\": 0, \"ticks\": \"\"}, \"type\": \"choropleth\"}], \"contour\": [{\"colorbar\": {\"outlinewidth\": 0, \"ticks\": \"\"}, \"colorscale\": [[0.0, \"#0d0887\"], [0.1111111111111111, \"#46039f\"], [0.2222222222222222, \"#7201a8\"], [0.3333333333333333, \"#9c179e\"], [0.4444444444444444, \"#bd3786\"], [0.5555555555555556, \"#d8576b\"], [0.6666666666666666, \"#ed7953\"], [0.7777777777777778, \"#fb9f3a\"], [0.8888888888888888, \"#fdca26\"], [1.0, \"#f0f921\"]], \"type\": \"contour\"}], \"contourcarpet\": [{\"colorbar\": {\"outlinewidth\": 0, \"ticks\": \"\"}, \"type\": \"contourcarpet\"}], \"heatmap\": [{\"colorbar\": {\"outlinewidth\": 0, \"ticks\": \"\"}, \"colorscale\": [[0.0, \"#0d0887\"], [0.1111111111111111, \"#46039f\"], [0.2222222222222222, \"#7201a8\"], [0.3333333333333333, \"#9c179e\"], [0.4444444444444444, \"#bd3786\"], [0.5555555555555556, \"#d8576b\"], [0.6666666666666666, \"#ed7953\"], [0.7777777777777778, \"#fb9f3a\"], [0.8888888888888888, \"#fdca26\"], [1.0, \"#f0f921\"]], \"type\": \"heatmap\"}], \"heatmapgl\": [{\"colorbar\": {\"outlinewidth\": 0, \"ticks\": \"\"}, \"colorscale\": [[0.0, \"#0d0887\"], [0.1111111111111111, \"#46039f\"], [0.2222222222222222, \"#7201a8\"], [0.3333333333333333, \"#9c179e\"], [0.4444444444444444, \"#bd3786\"], [0.5555555555555556, \"#d8576b\"], [0.6666666666666666, \"#ed7953\"], [0.7777777777777778, \"#fb9f3a\"], [0.8888888888888888, \"#fdca26\"], [1.0, \"#f0f921\"]], \"type\": \"heatmapgl\"}], \"histogram\": [{\"marker\": {\"colorbar\": {\"outlinewidth\": 0, \"ticks\": \"\"}}, \"type\": \"histogram\"}], \"histogram2d\": [{\"colorbar\": {\"outlinewidth\": 0, \"ticks\": \"\"}, \"colorscale\": [[0.0, \"#0d0887\"], [0.1111111111111111, \"#46039f\"], [0.2222222222222222, \"#7201a8\"], [0.3333333333333333, \"#9c179e\"], [0.4444444444444444, \"#bd3786\"], [0.5555555555555556, \"#d8576b\"], [0.6666666666666666, \"#ed7953\"], [0.7777777777777778, \"#fb9f3a\"], [0.8888888888888888, \"#fdca26\"], [1.0, \"#f0f921\"]], \"type\": \"histogram2d\"}], \"histogram2dcontour\": [{\"colorbar\": {\"outlinewidth\": 0, \"ticks\": \"\"}, \"colorscale\": [[0.0, \"#0d0887\"], [0.1111111111111111, \"#46039f\"], [0.2222222222222222, \"#7201a8\"], [0.3333333333333333, \"#9c179e\"], [0.4444444444444444, \"#bd3786\"], [0.5555555555555556, \"#d8576b\"], [0.6666666666666666, \"#ed7953\"], [0.7777777777777778, \"#fb9f3a\"], [0.8888888888888888, \"#fdca26\"], [1.0, \"#f0f921\"]], \"type\": \"histogram2dcontour\"}], \"mesh3d\": [{\"colorbar\": {\"outlinewidth\": 0, \"ticks\": \"\"}, \"type\": \"mesh3d\"}], \"parcoords\": [{\"line\": {\"colorbar\": {\"outlinewidth\": 0, \"ticks\": \"\"}}, \"type\": \"parcoords\"}], \"pie\": [{\"automargin\": true, \"type\": \"pie\"}], \"scatter\": [{\"marker\": {\"colorbar\": {\"outlinewidth\": 0, \"ticks\": \"\"}}, \"type\": \"scatter\"}], \"scatter3d\": [{\"line\": {\"colorbar\": {\"outlinewidth\": 0, \"ticks\": \"\"}}, \"marker\": {\"colorbar\": {\"outlinewidth\": 0, \"ticks\": \"\"}}, \"type\": \"scatter3d\"}], \"scattercarpet\": [{\"marker\": {\"colorbar\": {\"outlinewidth\": 0, \"ticks\": \"\"}}, \"type\": \"scattercarpet\"}], \"scattergeo\": [{\"marker\": {\"colorbar\": {\"outlinewidth\": 0, \"ticks\": \"\"}}, \"type\": \"scattergeo\"}], \"scattergl\": [{\"marker\": {\"colorbar\": {\"outlinewidth\": 0, \"ticks\": \"\"}}, \"type\": \"scattergl\"}], \"scattermapbox\": [{\"marker\": {\"colorbar\": {\"outlinewidth\": 0, \"ticks\": \"\"}}, \"type\": \"scattermapbox\"}], \"scatterpolar\": [{\"marker\": {\"colorbar\": {\"outlinewidth\": 0, \"ticks\": \"\"}}, \"type\": \"scatterpolar\"}], \"scatterpolargl\": [{\"marker\": {\"colorbar\": {\"outlinewidth\": 0, \"ticks\": \"\"}}, \"type\": \"scatterpolargl\"}], \"scatterternary\": [{\"marker\": {\"colorbar\": {\"outlinewidth\": 0, \"ticks\": \"\"}}, \"type\": \"scatterternary\"}], \"surface\": [{\"colorbar\": {\"outlinewidth\": 0, \"ticks\": \"\"}, \"colorscale\": [[0.0, \"#0d0887\"], [0.1111111111111111, \"#46039f\"], [0.2222222222222222, \"#7201a8\"], [0.3333333333333333, \"#9c179e\"], [0.4444444444444444, \"#bd3786\"], [0.5555555555555556, \"#d8576b\"], [0.6666666666666666, \"#ed7953\"], [0.7777777777777778, \"#fb9f3a\"], [0.8888888888888888, \"#fdca26\"], [1.0, \"#f0f921\"]], \"type\": \"surface\"}], \"table\": [{\"cells\": {\"fill\": {\"color\": \"#EBF0F8\"}, \"line\": {\"color\": \"white\"}}, \"header\": {\"fill\": {\"color\": \"#C8D4E3\"}, \"line\": {\"color\": \"white\"}}, \"type\": \"table\"}]}, \"layout\": {\"annotationdefaults\": {\"arrowcolor\": \"#2a3f5f\", \"arrowhead\": 0, \"arrowwidth\": 1}, \"coloraxis\": {\"colorbar\": {\"outlinewidth\": 0, \"ticks\": \"\"}}, \"colorscale\": {\"diverging\": [[0, \"#8e0152\"], [0.1, \"#c51b7d\"], [0.2, \"#de77ae\"], [0.3, \"#f1b6da\"], [0.4, \"#fde0ef\"], [0.5, \"#f7f7f7\"], [0.6, \"#e6f5d0\"], [0.7, \"#b8e186\"], [0.8, \"#7fbc41\"], [0.9, \"#4d9221\"], [1, \"#276419\"]], \"sequential\": [[0.0, \"#0d0887\"], [0.1111111111111111, \"#46039f\"], [0.2222222222222222, \"#7201a8\"], [0.3333333333333333, \"#9c179e\"], [0.4444444444444444, \"#bd3786\"], [0.5555555555555556, \"#d8576b\"], [0.6666666666666666, \"#ed7953\"], [0.7777777777777778, \"#fb9f3a\"], [0.8888888888888888, \"#fdca26\"], [1.0, \"#f0f921\"]], \"sequentialminus\": [[0.0, \"#0d0887\"], [0.1111111111111111, \"#46039f\"], [0.2222222222222222, \"#7201a8\"], [0.3333333333333333, \"#9c179e\"], [0.4444444444444444, \"#bd3786\"], [0.5555555555555556, \"#d8576b\"], [0.6666666666666666, \"#ed7953\"], [0.7777777777777778, \"#fb9f3a\"], [0.8888888888888888, \"#fdca26\"], [1.0, \"#f0f921\"]]}, \"colorway\": [\"#636efa\", \"#EF553B\", \"#00cc96\", \"#ab63fa\", \"#FFA15A\", \"#19d3f3\", \"#FF6692\", \"#B6E880\", \"#FF97FF\", \"#FECB52\"], \"font\": {\"color\": \"#2a3f5f\"}, \"geo\": {\"bgcolor\": \"white\", \"lakecolor\": \"white\", \"landcolor\": \"#E5ECF6\", \"showlakes\": true, \"showland\": true, \"subunitcolor\": \"white\"}, \"hoverlabel\": {\"align\": \"left\"}, \"hovermode\": \"closest\", \"mapbox\": {\"style\": \"light\"}, \"paper_bgcolor\": \"white\", \"plot_bgcolor\": \"#E5ECF6\", \"polar\": {\"angularaxis\": {\"gridcolor\": \"white\", \"linecolor\": \"white\", \"ticks\": \"\"}, \"bgcolor\": \"#E5ECF6\", \"radialaxis\": {\"gridcolor\": \"white\", \"linecolor\": \"white\", \"ticks\": \"\"}}, \"scene\": {\"xaxis\": {\"backgroundcolor\": \"#E5ECF6\", \"gridcolor\": \"white\", \"gridwidth\": 2, \"linecolor\": \"white\", \"showbackground\": true, \"ticks\": \"\", \"zerolinecolor\": \"white\"}, \"yaxis\": {\"backgroundcolor\": \"#E5ECF6\", \"gridcolor\": \"white\", \"gridwidth\": 2, \"linecolor\": \"white\", \"showbackground\": true, \"ticks\": \"\", \"zerolinecolor\": \"white\"}, \"zaxis\": {\"backgroundcolor\": \"#E5ECF6\", \"gridcolor\": \"white\", \"gridwidth\": 2, \"linecolor\": \"white\", \"showbackground\": true, \"ticks\": \"\", \"zerolinecolor\": \"white\"}}, \"shapedefaults\": {\"line\": {\"color\": \"#2a3f5f\"}}, \"ternary\": {\"aaxis\": {\"gridcolor\": \"white\", \"linecolor\": \"white\", \"ticks\": \"\"}, \"baxis\": {\"gridcolor\": \"white\", \"linecolor\": \"white\", \"ticks\": \"\"}, \"bgcolor\": \"#E5ECF6\", \"caxis\": {\"gridcolor\": \"white\", \"linecolor\": \"white\", \"ticks\": \"\"}}, \"title\": {\"x\": 0.05}, \"xaxis\": {\"automargin\": true, \"gridcolor\": \"white\", \"linecolor\": \"white\", \"ticks\": \"\", \"title\": {\"standoff\": 15}, \"zerolinecolor\": \"white\", \"zerolinewidth\": 2}, \"yaxis\": {\"automargin\": true, \"gridcolor\": \"white\", \"linecolor\": \"white\", \"ticks\": \"\", \"title\": {\"standoff\": 15}, \"zerolinecolor\": \"white\", \"zerolinewidth\": 2}}}, \"title\": {\"text\": \"Tesla's Stock Prices\"}, \"xaxis\": {\"title\": {\"text\": \"Date\"}}, \"yaxis\": {\"title\": {\"text\": \"Price\"}}},\n",
       "                        {\"responsive\": true}\n",
       "                    ).then(function(){\n",
       "                            \n",
       "var gd = document.getElementById('7e84b800-1ad9-4d98-aac4-180087d8ad55');\n",
       "var x = new MutationObserver(function (mutations, observer) {{\n",
       "        var display = window.getComputedStyle(gd).display;\n",
       "        if (!display || display === 'none') {{\n",
       "            console.log([gd, 'removed!']);\n",
       "            Plotly.purge(gd);\n",
       "            observer.disconnect();\n",
       "        }}\n",
       "}});\n",
       "\n",
       "// Listen for the removal of the full notebook cells\n",
       "var notebookContainer = gd.closest('#notebook-container');\n",
       "if (notebookContainer) {{\n",
       "    x.observe(notebookContainer, {childList: true});\n",
       "}}\n",
       "\n",
       "// Listen for the clearing of the current output cell\n",
       "var outputEl = gd.closest('.output');\n",
       "if (outputEl) {{\n",
       "    x.observe(outputEl, {childList: true});\n",
       "}}\n",
       "\n",
       "                        })\n",
       "                };\n",
       "                });\n",
       "            </script>\n",
       "        </div>"
      ]
     },
     "metadata": {},
     "output_type": "display_data"
    }
   ],
   "source": [
    "tesla = [{'x' : TSLA_data['Date'], 'y' : TSLA_data['Adj Close']}]\n",
    "fig0 = go.Figure(data = tesla, layout = layout)\n",
    "iplot(fig0)"
   ]
  },
  {
   "cell_type": "code",
   "execution_count": 500,
   "metadata": {},
   "outputs": [
    {
     "data": {
      "text/html": [
       "<div>\n",
       "<style scoped>\n",
       "    .dataframe tbody tr th:only-of-type {\n",
       "        vertical-align: middle;\n",
       "    }\n",
       "\n",
       "    .dataframe tbody tr th {\n",
       "        vertical-align: top;\n",
       "    }\n",
       "\n",
       "    .dataframe thead th {\n",
       "        text-align: right;\n",
       "    }\n",
       "</style>\n",
       "<table border=\"1\" class=\"dataframe\">\n",
       "  <thead>\n",
       "    <tr style=\"text-align: right;\">\n",
       "      <th></th>\n",
       "      <th>Date</th>\n",
       "      <th>High</th>\n",
       "      <th>Low</th>\n",
       "      <th>Open</th>\n",
       "      <th>Close</th>\n",
       "      <th>Volume</th>\n",
       "      <th>Adj Close</th>\n",
       "    </tr>\n",
       "  </thead>\n",
       "  <tbody>\n",
       "    <tr>\n",
       "      <th>0</th>\n",
       "      <td>2019-07-23</td>\n",
       "      <td>260.480011</td>\n",
       "      <td>254.500000</td>\n",
       "      <td>256.709991</td>\n",
       "      <td>260.170013</td>\n",
       "      <td>5023100</td>\n",
       "      <td>260.170013</td>\n",
       "    </tr>\n",
       "    <tr>\n",
       "      <th>1</th>\n",
       "      <td>2019-07-24</td>\n",
       "      <td>266.070007</td>\n",
       "      <td>258.160004</td>\n",
       "      <td>259.170013</td>\n",
       "      <td>264.880005</td>\n",
       "      <td>11072800</td>\n",
       "      <td>264.880005</td>\n",
       "    </tr>\n",
       "    <tr>\n",
       "      <th>2</th>\n",
       "      <td>2019-07-25</td>\n",
       "      <td>234.500000</td>\n",
       "      <td>225.550003</td>\n",
       "      <td>233.500000</td>\n",
       "      <td>228.820007</td>\n",
       "      <td>22418300</td>\n",
       "      <td>228.820007</td>\n",
       "    </tr>\n",
       "    <tr>\n",
       "      <th>3</th>\n",
       "      <td>2019-07-26</td>\n",
       "      <td>230.259995</td>\n",
       "      <td>222.250000</td>\n",
       "      <td>226.919998</td>\n",
       "      <td>228.039993</td>\n",
       "      <td>10027700</td>\n",
       "      <td>228.039993</td>\n",
       "    </tr>\n",
       "    <tr>\n",
       "      <th>4</th>\n",
       "      <td>2019-07-29</td>\n",
       "      <td>235.940002</td>\n",
       "      <td>226.029999</td>\n",
       "      <td>227.089996</td>\n",
       "      <td>235.770004</td>\n",
       "      <td>9273300</td>\n",
       "      <td>235.770004</td>\n",
       "    </tr>\n",
       "  </tbody>\n",
       "</table>\n",
       "</div>"
      ],
      "text/plain": [
       "        Date        High         Low        Open       Close    Volume  \\\n",
       "0 2019-07-23  260.480011  254.500000  256.709991  260.170013   5023100   \n",
       "1 2019-07-24  266.070007  258.160004  259.170013  264.880005  11072800   \n",
       "2 2019-07-25  234.500000  225.550003  233.500000  228.820007  22418300   \n",
       "3 2019-07-26  230.259995  222.250000  226.919998  228.039993  10027700   \n",
       "4 2019-07-29  235.940002  226.029999  227.089996  235.770004   9273300   \n",
       "\n",
       "    Adj Close  \n",
       "0  260.170013  \n",
       "1  264.880005  \n",
       "2  228.820007  \n",
       "3  228.039993  \n",
       "4  235.770004  "
      ]
     },
     "execution_count": 500,
     "metadata": {},
     "output_type": "execute_result"
    }
   ],
   "source": [
    "TSLA_data.head()"
   ]
  },
  {
   "cell_type": "markdown",
   "metadata": {},
   "source": [
    "### Applying Machine Learning Model for Predictions"
   ]
  },
  {
   "cell_type": "markdown",
   "metadata": {},
   "source": [
    "#### Identifying Dependent and Independent Variable"
   ]
  },
  {
   "cell_type": "code",
   "execution_count": 501,
   "metadata": {},
   "outputs": [],
   "source": [
    "X = TSLA_data.drop(['Date','Close','Adj Close'],axis = 1)\n",
    "Y = TSLA_data['Adj Close']"
   ]
  },
  {
   "cell_type": "code",
   "execution_count": 502,
   "metadata": {},
   "outputs": [
    {
     "data": {
      "text/html": [
       "<div>\n",
       "<style scoped>\n",
       "    .dataframe tbody tr th:only-of-type {\n",
       "        vertical-align: middle;\n",
       "    }\n",
       "\n",
       "    .dataframe tbody tr th {\n",
       "        vertical-align: top;\n",
       "    }\n",
       "\n",
       "    .dataframe thead th {\n",
       "        text-align: right;\n",
       "    }\n",
       "</style>\n",
       "<table border=\"1\" class=\"dataframe\">\n",
       "  <thead>\n",
       "    <tr style=\"text-align: right;\">\n",
       "      <th></th>\n",
       "      <th>High</th>\n",
       "      <th>Low</th>\n",
       "      <th>Open</th>\n",
       "      <th>Volume</th>\n",
       "    </tr>\n",
       "  </thead>\n",
       "  <tbody>\n",
       "    <tr>\n",
       "      <th>0</th>\n",
       "      <td>260.480011</td>\n",
       "      <td>254.500000</td>\n",
       "      <td>256.709991</td>\n",
       "      <td>5023100</td>\n",
       "    </tr>\n",
       "    <tr>\n",
       "      <th>1</th>\n",
       "      <td>266.070007</td>\n",
       "      <td>258.160004</td>\n",
       "      <td>259.170013</td>\n",
       "      <td>11072800</td>\n",
       "    </tr>\n",
       "    <tr>\n",
       "      <th>2</th>\n",
       "      <td>234.500000</td>\n",
       "      <td>225.550003</td>\n",
       "      <td>233.500000</td>\n",
       "      <td>22418300</td>\n",
       "    </tr>\n",
       "    <tr>\n",
       "      <th>3</th>\n",
       "      <td>230.259995</td>\n",
       "      <td>222.250000</td>\n",
       "      <td>226.919998</td>\n",
       "      <td>10027700</td>\n",
       "    </tr>\n",
       "    <tr>\n",
       "      <th>4</th>\n",
       "      <td>235.940002</td>\n",
       "      <td>226.029999</td>\n",
       "      <td>227.089996</td>\n",
       "      <td>9273300</td>\n",
       "    </tr>\n",
       "    <tr>\n",
       "      <th>...</th>\n",
       "      <td>...</td>\n",
       "      <td>...</td>\n",
       "      <td>...</td>\n",
       "      <td>...</td>\n",
       "    </tr>\n",
       "    <tr>\n",
       "      <th>249</th>\n",
       "      <td>1537.510010</td>\n",
       "      <td>1490.000000</td>\n",
       "      <td>1513.449951</td>\n",
       "      <td>9330000</td>\n",
       "    </tr>\n",
       "    <tr>\n",
       "      <th>250</th>\n",
       "      <td>1650.000000</td>\n",
       "      <td>1488.000000</td>\n",
       "      <td>1519.010010</td>\n",
       "      <td>17121400</td>\n",
       "    </tr>\n",
       "    <tr>\n",
       "      <th>251</th>\n",
       "      <td>1675.000000</td>\n",
       "      <td>1558.000000</td>\n",
       "      <td>1639.930054</td>\n",
       "      <td>16157300</td>\n",
       "    </tr>\n",
       "    <tr>\n",
       "      <th>252</th>\n",
       "      <td>1626.420044</td>\n",
       "      <td>1562.000000</td>\n",
       "      <td>1599.000000</td>\n",
       "      <td>13902500</td>\n",
       "    </tr>\n",
       "    <tr>\n",
       "      <th>253</th>\n",
       "      <td>1689.000000</td>\n",
       "      <td>1480.770020</td>\n",
       "      <td>1678.949951</td>\n",
       "      <td>22476568</td>\n",
       "    </tr>\n",
       "  </tbody>\n",
       "</table>\n",
       "<p>254 rows × 4 columns</p>\n",
       "</div>"
      ],
      "text/plain": [
       "            High          Low         Open    Volume\n",
       "0     260.480011   254.500000   256.709991   5023100\n",
       "1     266.070007   258.160004   259.170013  11072800\n",
       "2     234.500000   225.550003   233.500000  22418300\n",
       "3     230.259995   222.250000   226.919998  10027700\n",
       "4     235.940002   226.029999   227.089996   9273300\n",
       "..           ...          ...          ...       ...\n",
       "249  1537.510010  1490.000000  1513.449951   9330000\n",
       "250  1650.000000  1488.000000  1519.010010  17121400\n",
       "251  1675.000000  1558.000000  1639.930054  16157300\n",
       "252  1626.420044  1562.000000  1599.000000  13902500\n",
       "253  1689.000000  1480.770020  1678.949951  22476568\n",
       "\n",
       "[254 rows x 4 columns]"
      ]
     },
     "execution_count": 502,
     "metadata": {},
     "output_type": "execute_result"
    }
   ],
   "source": [
    "X"
   ]
  },
  {
   "cell_type": "code",
   "execution_count": 503,
   "metadata": {},
   "outputs": [
    {
     "data": {
      "text/plain": [
       "0       260.170013\n",
       "1       264.880005\n",
       "2       228.820007\n",
       "3       228.039993\n",
       "4       235.770004\n",
       "          ...     \n",
       "249    1500.839966\n",
       "250    1643.000000\n",
       "251    1568.359985\n",
       "252    1592.329956\n",
       "253    1511.999878\n",
       "Name: Adj Close, Length: 254, dtype: float64"
      ]
     },
     "execution_count": 503,
     "metadata": {},
     "output_type": "execute_result"
    }
   ],
   "source": [
    "Y"
   ]
  },
  {
   "cell_type": "markdown",
   "metadata": {},
   "source": [
    "#### Splitting Data Into test and Train Set"
   ]
  },
  {
   "cell_type": "code",
   "execution_count": 504,
   "metadata": {},
   "outputs": [],
   "source": [
    "from sklearn.model_selection import train_test_split\n",
    "X_train, X_test, y_train, y_test = train_test_split(X, Y, test_size = 0.2, random_state = 0)"
   ]
  },
  {
   "cell_type": "markdown",
   "metadata": {},
   "source": [
    "#### Performing feature Scaling"
   ]
  },
  {
   "cell_type": "code",
   "execution_count": 505,
   "metadata": {},
   "outputs": [],
   "source": [
    "from sklearn.preprocessing import StandardScaler\n",
    "sc = StandardScaler()\n",
    "X_train = sc.fit_transform(X_train)\n",
    "X_test = sc.transform(X_test)"
   ]
  },
  {
   "cell_type": "markdown",
   "metadata": {},
   "source": [
    "#### Using Linear Regression"
   ]
  },
  {
   "cell_type": "code",
   "execution_count": 506,
   "metadata": {},
   "outputs": [
    {
     "data": {
      "text/plain": [
       "LinearRegression(copy_X=True, fit_intercept=True, n_jobs=None, normalize=False)"
      ]
     },
     "execution_count": 506,
     "metadata": {},
     "output_type": "execute_result"
    }
   ],
   "source": [
    "from sklearn.linear_model import LinearRegression\n",
    "regressor = LinearRegression()\n",
    "regressor.fit(X_train,y_train)"
   ]
  },
  {
   "cell_type": "code",
   "execution_count": 507,
   "metadata": {},
   "outputs": [],
   "source": [
    "Y_pred = regressor.predict(X_test)"
   ]
  },
  {
   "cell_type": "markdown",
   "metadata": {},
   "source": [
    "#### Evaluation for model"
   ]
  },
  {
   "cell_type": "code",
   "execution_count": 508,
   "metadata": {},
   "outputs": [],
   "source": [
    "from sklearn.metrics import mean_squared_error as mse\n",
    "from sklearn.metrics import r2_score as rs"
   ]
  },
  {
   "cell_type": "code",
   "execution_count": 509,
   "metadata": {
    "scrolled": true
   },
   "outputs": [
    {
     "name": "stdout",
     "output_type": "stream",
     "text": [
      "\n",
      "Metric                    Train                  Test         \n",
      "R_Square_Score    0.9985825075621663\t0.9983872589648659\n",
      "MSE               172.19271546441394\t133.30731889761336\n",
      "\n"
     ]
    }
   ],
   "source": [
    "score = f'''\n",
    "{'Metric'.ljust(18)}{'Train'.center(22)}{'Test'.center(22)}\n",
    "{'R_Square_Score'.ljust(18)}{rs(y_train,regressor.predict(X_train))}\\t{rs(y_test,regressor.predict(X_test))}\n",
    "{'MSE'.ljust(18)}{mse(y_train,regressor.predict(X_train))}\\t{mse(y_test,regressor.predict(X_test))}\n",
    "'''\n",
    "print(score)"
   ]
  },
  {
   "cell_type": "markdown",
   "metadata": {},
   "source": [
    "#### Visualization and Comparison of True And Predicted STock Prices."
   ]
  },
  {
   "cell_type": "code",
   "execution_count": 518,
   "metadata": {},
   "outputs": [],
   "source": [
    "import plotly.graph_objects as go\n",
    "trace1 = go.Scatter(x = X_train.T[0], y = y_train, mode = 'markers', name = 'TRUE')\n",
    "trace2 = go.Scatter(x = X_train.T[0], y = regressor.predict(X_train).T, mode = 'markers', name = 'PREDICTED')\n",
    "\n",
    "df = [trace1,trace2]\n",
    "layout.xaxis.title.text = ' '\n",
    "fig = go.Figure(data = df, layout = layout)"
   ]
  },
  {
   "cell_type": "code",
   "execution_count": 519,
   "metadata": {},
   "outputs": [
    {
     "data": {
      "application/vnd.plotly.v1+json": {
       "config": {
        "linkText": "Export to plot.ly",
        "plotlyServerURL": "https://plot.ly",
        "showLink": false
       },
       "data": [
        {
         "mode": "markers",
         "name": "TRUE",
         "type": "scatter",
         "x": [
          0.07027687720559289,
          0.2376147839876821,
          -0.6665029255325562,
          -0.8921862129013141,
          0.6716743581601089,
          1.1181395362532145,
          -0.9967481723041235,
          1.0308015494464744,
          -0.958645095071255,
          0.29997542250818676,
          -0.7163193689169194,
          -0.935079898313061,
          -0.6831176460750414,
          0.47334999080573764,
          2.679978703733012,
          -0.9648479392850138,
          -0.43397990816020177,
          0.4529138710173866,
          1.1926289342908274,
          2.6769881757252123,
          0.6798710144726589,
          -0.6806808068743828,
          -0.9711061354781189,
          -0.6738134431345323,
          -0.7074305170886046,
          -0.4435610400111201,
          -0.2434921134786937,
          -0.9588112355161327,
          -0.3061573146458614,
          -0.8789498222494075,
          -0.1842053267089439,
          -0.9620234249618338,
          -0.767769667520645,
          -1.0105660967665213,
          1.190192095090169,
          0.6224670400690717,
          1.123677776434043,
          -0.9249449086413244,
          -0.9504484810121244,
          -0.9745398596014635,
          -0.4685108390679405,
          -1.0167412227371877,
          -0.9795242419614736,
          1.153750549066336,
          -0.8863710438100766,
          -0.9218711836508279,
          0.6584933194875489,
          -0.12281381261461262,
          -0.9812688011395287,
          0.4203767099550197,
          0.7304627235952257,
          -0.936658274792819,
          0.7230137837914644,
          -0.6254369117747226,
          -0.962854169439642,
          -0.9627987752068763,
          0.8743462643380717,
          -0.5177457908952315,
          0.564758672032499,
          -0.6129481531247661,
          -0.9683370153877047,
          0.7692858413472097,
          -0.019414963086205814,
          1.1846538549093406,
          -0.9255817944311623,
          -0.9592819808610928,
          -0.9935360251118417,
          -0.9346922231905398,
          1.2101297935438868,
          -0.9777797250368377,
          -0.06917596998438426,
          -0.9384028339708742,
          -0.18149147409103705,
          2.6453924208459267,
          -0.1875558538495916,
          3.3583854076414004,
          -0.1694458693032062,
          -0.8844327104508897,
          0.6751357582731267,
          -0.3605151555417864,
          -0.014901283817736467,
          0.5104285493796664,
          0.5915914524691598,
          -0.9332245929228938,
          0.5748935771973969,
          0.9132800860487484,
          0.03408445734223794,
          -0.4455548098564919,
          0.6124428388628664,
          -0.6409439166755712,
          0.1976841196077389,
          -0.6764440565163226,
          0.6695975180922983,
          2.288314520397957,
          -0.41949737966487355,
          -0.8908570048354534,
          -0.6765825632249465,
          -0.6861082585896797,
          -0.714131824890416,
          -0.9310923586223175,
          -0.936547528580707,
          -0.6119512259486609,
          3.026118715034788,
          0.5747551549956117,
          -0.999711151082508,
          1.2330580200054042,
          0.6390540423684644,
          -0.6452083852767239,
          -0.6076868418543468,
          0.02106955911455569,
          0.6751357582731267,
          2.8915949827323137,
          -0.9290709127872725,
          -0.6683305549330503,
          -0.615301922102986,
          -0.0963134820813854,
          1.39978663248049,
          0.9040311505807469,
          0.7000578390868545,
          0.693135038860819,
          0.6119998540144183,
          -0.6948586882162093,
          1.7883220346196376,
          1.1815524539291706,
          -0.9653740366093202,
          -0.2693003330029952,
          -0.5498953190884965,
          -0.9249449086413244,
          -0.9168867590373985,
          -0.18968813040358729,
          -0.9028749758870303,
          -0.8753776336708585,
          -0.15662482976349426,
          0.6695975180922983,
          -0.9283232385319032,
          -0.4855409107226201,
          0.19020746156088508,
          0.8682818845795175,
          -0.9986311959373833,
          -0.9269940727194619,
          0.196077982631469,
          -0.9515561544003417,
          -0.3055481048456967,
          2.6293313891105825,
          -0.02307022188719385,
          -0.95991890890435,
          -0.9685031558325824,
          0.4421973897885778,
          -0.35497691536095805,
          -0.2418029907868236,
          0.4363545869610864,
          -0.9758136311811392,
          1.0185066494844883,
          -0.0005295437879396404,
          0.4908508500587967,
          1.2094652317643757,
          1.1431170535531274,
          -0.9762567005364261,
          -0.2912871532814313,
          0.652982797549813,
          0.6989501234452179,
          0.9162153465840404,
          -0.978167400159359,
          -0.18470374804357687,
          -0.6230554245534102,
          -0.6352119023136111,
          2.956890712774433,
          -0.1889681321378912,
          -0.6419408438516764,
          0.49791207248661745,
          0.6642531365994401,
          -0.3617335751421158,
          0.7789777616636594,
          2.79074350734958,
          -0.7357862797722577,
          -0.6776901943597444,
          -1.0062739521756954,
          -0.4910515171671947,
          -0.6323319937576656,
          1.5317075541511054,
          -0.1086359312727867,
          2.3462997328381,
          -0.9320615253019109,
          1.2011854207225483,
          0.6169842363744283,
          -0.8962014708351501,
          0.5574758726736154,
          -0.6580017065733433,
          0.8772815248733637,
          -0.7293896191239481,
          -0.6678874855777633,
          -0.9101854934890063,
          2.3124057299736185,
          -0.994034446446475,
          0.6911413535222859,
          -0.971466134610967,
          -0.5446616415543312,
          0.7964786209167185,
          -0.6983478065723195,
          0.6017263576340577,
          -0.23177878958061837,
          -0.9234495601305859,
          -0.1561541266719532
         ],
         "y": [
          546.6199951171875,
          645.3300170898438,
          335.5400085449219,
          257.8900146484375,
          805.8099975585938,
          985.97998046875,
          219.94000244140625,
          940.6699829101562,
          235,
          667.989990234375,
          317.2200012207031,
          233.8500061035156,
          328.9200134277344,
          729.8300170898438,
          1546.010009765625,
          231.7899932861328,
          425.25,
          724.5399780273438,
          982.1300048828124,
          1544.6500244140625,
          820.22998046875,
          334.8699951171875,
          219.6199951171875,
          335.8900146484375,
          326.5799865722656,
          419.2200012207031,
          454.4700012207031,
          235.7700042724609,
          469.05999755859375,
          261.97000122070307,
          510.5,
          231.42999267578125,
          299.67999267578125,
          215.58999633789062,
          1001.780029296875,
          745.510009765625,
          935.280029296875,
          243.4900054931641,
          235.00999450683597,
          228.0399932861328,
          405.5899963378906,
          215,
          220.67999267578125,
          990.9000244140624,
          259.75,
          244.7400054931641,
          771.280029296875,
          518.5,
          226.8300018310547,
          705.6300048828125,
          734.7000122070312,
          240.0500030517578,
          809.4099731445312,
          346.1099853515625,
          233.02999877929688,
          228.82000732421875,
          882.9600219726562,
          393.1499938964844,
          780,
          354.8299865722656,
          230.75,
          858.4000244140625,
          573,
          1009.3499755859376,
          246.6000061035156,
          229.00999450683597,
          221.7100067138672,
          243.1300048828125,
          1003.9600219726562,
          225.8600006103516,
          548.8400268554689,
          242.55999755859372,
          502.1300048828125,
          1500.8399658203125,
          513.489990234375,
          1497.06005859375,
          516.239990234375,
          256.95001220703125,
          815.5599975585938,
          427.6400146484375,
          566.9000244140625,
          749.5,
          748.9600219726562,
          241.22999572753903,
          782.5800170898438,
          899.4099731445312,
          560.5499877929689,
          418.3299865722656,
          803.3300170898438,
          348.8399963378906,
          634.22998046875,
          336.20001220703125,
          819.4199829101562,
          1394.280029296875,
          430.260009765625,
          260.17001342773443,
          333.0299987792969,
          330.3699951171875,
          316.2200012207031,
          244.69000244140625,
          240.8699951171875,
          352.2200012207031,
          1568.3599853515625,
          767.2899780273438,
          211.3999938964844,
          1025.050048828125,
          800.030029296875,
          345.0899963378906,
          359.67999267578125,
          580.989990234375,
          790.9600219726562,
          1592.3299560546875,
          241.6100006103516,
          327.7099914550781,
          359.5199890136719,
          537.9199829101561,
          1079.81005859375,
          881.5599975585938,
          835,
          827.5999755859375,
          800.510009765625,
          329.94000244140625,
          1208.6600341796875,
          994.3200073242188,
          233.4199981689453,
          478.1499938964844,
          381.5,
          247.1000061035156,
          247.88999938964844,
          505,
          254.67999267578125,
          264.8800048828125,
          524.8599853515625,
          811.2899780273438,
          240.6199951171875,
          404.0400085449219,
          640.8099975585938,
          864.3800048828125,
          215.63999938964844,
          242.80999755859372,
          650.5700073242188,
          237.72000122070312,
          430.20001220703125,
          1500.6400146484375,
          564.8200073242188,
          235.5399932861328,
          225.6100006103516,
          709.8900146484375,
          443.010009765625,
          445.0700073242188,
          679,
          229.5800018310547,
          949.9199829101562,
          572.2000122070312,
          745.2100219726562,
          972.8400268554688,
          959.739990234375,
          227.4499969482422,
          427.5299987792969,
          804,
          818.8699951171875,
          901,
          225.00999450683597,
          480.010009765625,
          352.70001220703125,
          352.1700134277344,
          1643,
          481.55999755859375,
          349.92999267578125,
          761.1900024414062,
          808.010009765625,
          451.5400085449219,
          833.7899780273438,
          1516.800048828125,
          313.30999755859375,
          337.1400146484375,
          214.0800018310547,
          361.2200012207031,
          349.3500061035156,
          1119.6300048828123,
          524,
          1389.8599853515625,
          244.7899932861328,
          1000.9000244140624,
          769.1199951171875,
          256.95999145507807,
          774.3800048828125,
          336.3399963378906,
          898.0999755859375,
          315.010009765625,
          333.0400085449219,
          245.8699951171875,
          1365.8800048828125,
          220.8300018310547,
          816.8800048828125,
          228.32000732421875,
          378.989990234375,
          781.8800048828125,
          328.1300048828125,
          798.75,
          492.1400146484375,
          242.1300048828125,
          514.3599853515625
         ]
        },
        {
         "mode": "markers",
         "name": "PREDICTED",
         "type": "scatter",
         "x": [
          0.07027687720559289,
          0.2376147839876821,
          -0.6665029255325562,
          -0.8921862129013141,
          0.6716743581601089,
          1.1181395362532145,
          -0.9967481723041235,
          1.0308015494464744,
          -0.958645095071255,
          0.29997542250818676,
          -0.7163193689169194,
          -0.935079898313061,
          -0.6831176460750414,
          0.47334999080573764,
          2.679978703733012,
          -0.9648479392850138,
          -0.43397990816020177,
          0.4529138710173866,
          1.1926289342908274,
          2.6769881757252123,
          0.6798710144726589,
          -0.6806808068743828,
          -0.9711061354781189,
          -0.6738134431345323,
          -0.7074305170886046,
          -0.4435610400111201,
          -0.2434921134786937,
          -0.9588112355161327,
          -0.3061573146458614,
          -0.8789498222494075,
          -0.1842053267089439,
          -0.9620234249618338,
          -0.767769667520645,
          -1.0105660967665213,
          1.190192095090169,
          0.6224670400690717,
          1.123677776434043,
          -0.9249449086413244,
          -0.9504484810121244,
          -0.9745398596014635,
          -0.4685108390679405,
          -1.0167412227371877,
          -0.9795242419614736,
          1.153750549066336,
          -0.8863710438100766,
          -0.9218711836508279,
          0.6584933194875489,
          -0.12281381261461262,
          -0.9812688011395287,
          0.4203767099550197,
          0.7304627235952257,
          -0.936658274792819,
          0.7230137837914644,
          -0.6254369117747226,
          -0.962854169439642,
          -0.9627987752068763,
          0.8743462643380717,
          -0.5177457908952315,
          0.564758672032499,
          -0.6129481531247661,
          -0.9683370153877047,
          0.7692858413472097,
          -0.019414963086205814,
          1.1846538549093406,
          -0.9255817944311623,
          -0.9592819808610928,
          -0.9935360251118417,
          -0.9346922231905398,
          1.2101297935438868,
          -0.9777797250368377,
          -0.06917596998438426,
          -0.9384028339708742,
          -0.18149147409103705,
          2.6453924208459267,
          -0.1875558538495916,
          3.3583854076414004,
          -0.1694458693032062,
          -0.8844327104508897,
          0.6751357582731267,
          -0.3605151555417864,
          -0.014901283817736467,
          0.5104285493796664,
          0.5915914524691598,
          -0.9332245929228938,
          0.5748935771973969,
          0.9132800860487484,
          0.03408445734223794,
          -0.4455548098564919,
          0.6124428388628664,
          -0.6409439166755712,
          0.1976841196077389,
          -0.6764440565163226,
          0.6695975180922983,
          2.288314520397957,
          -0.41949737966487355,
          -0.8908570048354534,
          -0.6765825632249465,
          -0.6861082585896797,
          -0.714131824890416,
          -0.9310923586223175,
          -0.936547528580707,
          -0.6119512259486609,
          3.026118715034788,
          0.5747551549956117,
          -0.999711151082508,
          1.2330580200054042,
          0.6390540423684644,
          -0.6452083852767239,
          -0.6076868418543468,
          0.02106955911455569,
          0.6751357582731267,
          2.8915949827323137,
          -0.9290709127872725,
          -0.6683305549330503,
          -0.615301922102986,
          -0.0963134820813854,
          1.39978663248049,
          0.9040311505807469,
          0.7000578390868545,
          0.693135038860819,
          0.6119998540144183,
          -0.6948586882162093,
          1.7883220346196376,
          1.1815524539291706,
          -0.9653740366093202,
          -0.2693003330029952,
          -0.5498953190884965,
          -0.9249449086413244,
          -0.9168867590373985,
          -0.18968813040358729,
          -0.9028749758870303,
          -0.8753776336708585,
          -0.15662482976349426,
          0.6695975180922983,
          -0.9283232385319032,
          -0.4855409107226201,
          0.19020746156088508,
          0.8682818845795175,
          -0.9986311959373833,
          -0.9269940727194619,
          0.196077982631469,
          -0.9515561544003417,
          -0.3055481048456967,
          2.6293313891105825,
          -0.02307022188719385,
          -0.95991890890435,
          -0.9685031558325824,
          0.4421973897885778,
          -0.35497691536095805,
          -0.2418029907868236,
          0.4363545869610864,
          -0.9758136311811392,
          1.0185066494844883,
          -0.0005295437879396404,
          0.4908508500587967,
          1.2094652317643757,
          1.1431170535531274,
          -0.9762567005364261,
          -0.2912871532814313,
          0.652982797549813,
          0.6989501234452179,
          0.9162153465840404,
          -0.978167400159359,
          -0.18470374804357687,
          -0.6230554245534102,
          -0.6352119023136111,
          2.956890712774433,
          -0.1889681321378912,
          -0.6419408438516764,
          0.49791207248661745,
          0.6642531365994401,
          -0.3617335751421158,
          0.7789777616636594,
          2.79074350734958,
          -0.7357862797722577,
          -0.6776901943597444,
          -1.0062739521756954,
          -0.4910515171671947,
          -0.6323319937576656,
          1.5317075541511054,
          -0.1086359312727867,
          2.3462997328381,
          -0.9320615253019109,
          1.2011854207225483,
          0.6169842363744283,
          -0.8962014708351501,
          0.5574758726736154,
          -0.6580017065733433,
          0.8772815248733637,
          -0.7293896191239481,
          -0.6678874855777633,
          -0.9101854934890063,
          2.3124057299736185,
          -0.994034446446475,
          0.6911413535222859,
          -0.971466134610967,
          -0.5446616415543312,
          0.7964786209167185,
          -0.6983478065723195,
          0.6017263576340577,
          -0.23177878958061837,
          -0.9234495601305859,
          -0.1561541266719532
         ],
         "y": [
          518.7685834412407,
          622.0592093821288,
          339.0466823815568,
          256.7540735099044,
          819.0369131059769,
          971.1123807047416,
          220.25107074301837,
          945.6192816510786,
          233.09154361070597,
          661.6615832861576,
          320.8114840562269,
          234.0447116010845,
          329.56158074823225,
          727.1088990827332,
          1483.662023834199,
          232.37358168707107,
          421.1868789386117,
          741.662735890618,
          976.3279526255997,
          1502.190154282693,
          799.8835455710766,
          335.62282317234053,
          217.7938419502845,
          339.64801629526323,
          322.5943061489172,
          420.73078870709605,
          460.9877515878506,
          232.87479521316345,
          465.09293785381726,
          262.78094131908637,
          513.8473785529382,
          230.98381693950427,
          296.3887994453465,
          215.01925958048878,
          1015.3074517275861,
          728.6388173465668,
          931.2988539010141,
          245.32617037969544,
          236.434371908054,
          225.3060664095848,
          405.7952008133992,
          212.82487070162938,
          220.90591397482132,
          976.6722074644936,
          261.2054100876716,
          245.2178762627429,
          776.8575551232581,
          528.0853125440003,
          224.7031190676069,
          716.2066804172825,
          732.7540466556638,
          240.9104102881368,
          829.5213832408213,
          348.7492780363808,
          227.13706404903763,
          227.57665796450243,
          897.5347775870619,
          393.911072305104,
          761.1442104629193,
          360.8496547211182,
          226.8239714535402,
          855.4573996113911,
          572.1480227764885,
          989.254162265317,
          246.95042070869818,
          231.29514081825857,
          221.44614883833117,
          241.1633267574349,
          1018.1705632846792,
          226.04877783793313,
          541.3679095567413,
          237.09472733550763,
          500.9331324853573,
          1527.0281366507961,
          511.79213053795957,
          1592.3365074877083,
          510.0962968806124,
          257.6417549129419,
          825.1803873233421,
          416.54729478445506,
          569.874132803471,
          735.9348557297731,
          763.3147603113551,
          243.4918936035827,
          779.5476645603575,
          871.8720512319627,
          562.5581377434422,
          416.864105764941,
          789.6545922686657,
          349.16289343603125,
          629.7136767521991,
          337.99972330705873,
          817.6503593566721,
          1378.2166427742504,
          429.67418477594083,
          258.0780132825525,
          335.1262658410643,
          330.4330389088748,
          319.9832710012656,
          243.0036041494422,
          237.62527970574894,
          353.067498766318,
          1605.7388504884775,
          780.8527836140584,
          212.45635876128802,
          1019.9928815416858,
          812.8099893192539,
          348.0941905712123,
          361.2107005132972,
          583.5903931856219,
          777.599177104011,
          1603.0291897600018,
          240.17659086362715,
          334.48345568185573,
          356.0591515697098,
          533.4824736029806,
          1073.2757810001644,
          891.87533895297,
          832.0861501009884,
          817.3813203560712,
          801.6837067573136,
          329.57108019789564,
          1206.4424405577429,
          1008.4658008215472,
          231.2121340904887,
          480.5838558313277,
          380.2545070196145,
          244.39324622241116,
          250.46102019196712,
          504.4483439330029,
          253.4228563557224,
          264.1820379095498,
          519.8113291024137,
          817.87427024656,
          239.40098322005093,
          406.6906688460241,
          638.5702385022673,
          873.5013043999365,
          212.65936333372997,
          242.97274308243044,
          648.7709344699705,
          235.3291824613226,
          423.32603600772245,
          1523.8933841837052,
          562.6966461083556,
          232.80194088929807,
          227.24146690675002,
          731.0961271495094,
          450.56787072151735,
          465.02366761990345,
          685.4140987598397,
          226.47630564008563,
          942.1789906855221,
          574.2194301708918,
          745.0522208514708,
          1004.694974220722,
          967.651604425042,
          227.3405247743974,
          457.68062046164675,
          797.4806942875182,
          825.6843598883847,
          896.0478414791842,
          227.01717032740328,
          478.51698548010563,
          357.21840528889726,
          352.2020651615575,
          1600.549782457923,
          487.40093792422897,
          348.85012765594325,
          748.912131948219,
          820.4567443811186,
          451.62315172123493,
          849.6030226224179,
          1477.6293101152837,
          311.84710615066035,
          336.70625720304497,
          214.5350967974286,
          365.7743295408237,
          350.6688749694431,
          1130.7954664376575,
          531.3591807219769,
          1373.5258747719954,
          243.24125500070056,
          1006.2020727853117,
          773.1416493912869,
          255.57926099890108,
          777.2747009729428,
          337.2605297105456,
          893.169950675529,
          315.991059620328,
          333.32772603043003,
          249.418002190503,
          1339.7428505734224,
          219.00018214818164,
          828.4116070546654,
          227.64896269107481,
          383.3682097508113,
          785.7932657108003,
          321.23969185982,
          787.1245614196272,
          490.8268784180256,
          244.26227189955443,
          513.7404681708766
         ]
        }
       ],
       "layout": {
        "template": {
         "data": {
          "bar": [
           {
            "error_x": {
             "color": "#2a3f5f"
            },
            "error_y": {
             "color": "#2a3f5f"
            },
            "marker": {
             "line": {
              "color": "#E5ECF6",
              "width": 0.5
             }
            },
            "type": "bar"
           }
          ],
          "barpolar": [
           {
            "marker": {
             "line": {
              "color": "#E5ECF6",
              "width": 0.5
             }
            },
            "type": "barpolar"
           }
          ],
          "carpet": [
           {
            "aaxis": {
             "endlinecolor": "#2a3f5f",
             "gridcolor": "white",
             "linecolor": "white",
             "minorgridcolor": "white",
             "startlinecolor": "#2a3f5f"
            },
            "baxis": {
             "endlinecolor": "#2a3f5f",
             "gridcolor": "white",
             "linecolor": "white",
             "minorgridcolor": "white",
             "startlinecolor": "#2a3f5f"
            },
            "type": "carpet"
           }
          ],
          "choropleth": [
           {
            "colorbar": {
             "outlinewidth": 0,
             "ticks": ""
            },
            "type": "choropleth"
           }
          ],
          "contour": [
           {
            "colorbar": {
             "outlinewidth": 0,
             "ticks": ""
            },
            "colorscale": [
             [
              0,
              "#0d0887"
             ],
             [
              0.1111111111111111,
              "#46039f"
             ],
             [
              0.2222222222222222,
              "#7201a8"
             ],
             [
              0.3333333333333333,
              "#9c179e"
             ],
             [
              0.4444444444444444,
              "#bd3786"
             ],
             [
              0.5555555555555556,
              "#d8576b"
             ],
             [
              0.6666666666666666,
              "#ed7953"
             ],
             [
              0.7777777777777778,
              "#fb9f3a"
             ],
             [
              0.8888888888888888,
              "#fdca26"
             ],
             [
              1,
              "#f0f921"
             ]
            ],
            "type": "contour"
           }
          ],
          "contourcarpet": [
           {
            "colorbar": {
             "outlinewidth": 0,
             "ticks": ""
            },
            "type": "contourcarpet"
           }
          ],
          "heatmap": [
           {
            "colorbar": {
             "outlinewidth": 0,
             "ticks": ""
            },
            "colorscale": [
             [
              0,
              "#0d0887"
             ],
             [
              0.1111111111111111,
              "#46039f"
             ],
             [
              0.2222222222222222,
              "#7201a8"
             ],
             [
              0.3333333333333333,
              "#9c179e"
             ],
             [
              0.4444444444444444,
              "#bd3786"
             ],
             [
              0.5555555555555556,
              "#d8576b"
             ],
             [
              0.6666666666666666,
              "#ed7953"
             ],
             [
              0.7777777777777778,
              "#fb9f3a"
             ],
             [
              0.8888888888888888,
              "#fdca26"
             ],
             [
              1,
              "#f0f921"
             ]
            ],
            "type": "heatmap"
           }
          ],
          "heatmapgl": [
           {
            "colorbar": {
             "outlinewidth": 0,
             "ticks": ""
            },
            "colorscale": [
             [
              0,
              "#0d0887"
             ],
             [
              0.1111111111111111,
              "#46039f"
             ],
             [
              0.2222222222222222,
              "#7201a8"
             ],
             [
              0.3333333333333333,
              "#9c179e"
             ],
             [
              0.4444444444444444,
              "#bd3786"
             ],
             [
              0.5555555555555556,
              "#d8576b"
             ],
             [
              0.6666666666666666,
              "#ed7953"
             ],
             [
              0.7777777777777778,
              "#fb9f3a"
             ],
             [
              0.8888888888888888,
              "#fdca26"
             ],
             [
              1,
              "#f0f921"
             ]
            ],
            "type": "heatmapgl"
           }
          ],
          "histogram": [
           {
            "marker": {
             "colorbar": {
              "outlinewidth": 0,
              "ticks": ""
             }
            },
            "type": "histogram"
           }
          ],
          "histogram2d": [
           {
            "colorbar": {
             "outlinewidth": 0,
             "ticks": ""
            },
            "colorscale": [
             [
              0,
              "#0d0887"
             ],
             [
              0.1111111111111111,
              "#46039f"
             ],
             [
              0.2222222222222222,
              "#7201a8"
             ],
             [
              0.3333333333333333,
              "#9c179e"
             ],
             [
              0.4444444444444444,
              "#bd3786"
             ],
             [
              0.5555555555555556,
              "#d8576b"
             ],
             [
              0.6666666666666666,
              "#ed7953"
             ],
             [
              0.7777777777777778,
              "#fb9f3a"
             ],
             [
              0.8888888888888888,
              "#fdca26"
             ],
             [
              1,
              "#f0f921"
             ]
            ],
            "type": "histogram2d"
           }
          ],
          "histogram2dcontour": [
           {
            "colorbar": {
             "outlinewidth": 0,
             "ticks": ""
            },
            "colorscale": [
             [
              0,
              "#0d0887"
             ],
             [
              0.1111111111111111,
              "#46039f"
             ],
             [
              0.2222222222222222,
              "#7201a8"
             ],
             [
              0.3333333333333333,
              "#9c179e"
             ],
             [
              0.4444444444444444,
              "#bd3786"
             ],
             [
              0.5555555555555556,
              "#d8576b"
             ],
             [
              0.6666666666666666,
              "#ed7953"
             ],
             [
              0.7777777777777778,
              "#fb9f3a"
             ],
             [
              0.8888888888888888,
              "#fdca26"
             ],
             [
              1,
              "#f0f921"
             ]
            ],
            "type": "histogram2dcontour"
           }
          ],
          "mesh3d": [
           {
            "colorbar": {
             "outlinewidth": 0,
             "ticks": ""
            },
            "type": "mesh3d"
           }
          ],
          "parcoords": [
           {
            "line": {
             "colorbar": {
              "outlinewidth": 0,
              "ticks": ""
             }
            },
            "type": "parcoords"
           }
          ],
          "pie": [
           {
            "automargin": true,
            "type": "pie"
           }
          ],
          "scatter": [
           {
            "marker": {
             "colorbar": {
              "outlinewidth": 0,
              "ticks": ""
             }
            },
            "type": "scatter"
           }
          ],
          "scatter3d": [
           {
            "line": {
             "colorbar": {
              "outlinewidth": 0,
              "ticks": ""
             }
            },
            "marker": {
             "colorbar": {
              "outlinewidth": 0,
              "ticks": ""
             }
            },
            "type": "scatter3d"
           }
          ],
          "scattercarpet": [
           {
            "marker": {
             "colorbar": {
              "outlinewidth": 0,
              "ticks": ""
             }
            },
            "type": "scattercarpet"
           }
          ],
          "scattergeo": [
           {
            "marker": {
             "colorbar": {
              "outlinewidth": 0,
              "ticks": ""
             }
            },
            "type": "scattergeo"
           }
          ],
          "scattergl": [
           {
            "marker": {
             "colorbar": {
              "outlinewidth": 0,
              "ticks": ""
             }
            },
            "type": "scattergl"
           }
          ],
          "scattermapbox": [
           {
            "marker": {
             "colorbar": {
              "outlinewidth": 0,
              "ticks": ""
             }
            },
            "type": "scattermapbox"
           }
          ],
          "scatterpolar": [
           {
            "marker": {
             "colorbar": {
              "outlinewidth": 0,
              "ticks": ""
             }
            },
            "type": "scatterpolar"
           }
          ],
          "scatterpolargl": [
           {
            "marker": {
             "colorbar": {
              "outlinewidth": 0,
              "ticks": ""
             }
            },
            "type": "scatterpolargl"
           }
          ],
          "scatterternary": [
           {
            "marker": {
             "colorbar": {
              "outlinewidth": 0,
              "ticks": ""
             }
            },
            "type": "scatterternary"
           }
          ],
          "surface": [
           {
            "colorbar": {
             "outlinewidth": 0,
             "ticks": ""
            },
            "colorscale": [
             [
              0,
              "#0d0887"
             ],
             [
              0.1111111111111111,
              "#46039f"
             ],
             [
              0.2222222222222222,
              "#7201a8"
             ],
             [
              0.3333333333333333,
              "#9c179e"
             ],
             [
              0.4444444444444444,
              "#bd3786"
             ],
             [
              0.5555555555555556,
              "#d8576b"
             ],
             [
              0.6666666666666666,
              "#ed7953"
             ],
             [
              0.7777777777777778,
              "#fb9f3a"
             ],
             [
              0.8888888888888888,
              "#fdca26"
             ],
             [
              1,
              "#f0f921"
             ]
            ],
            "type": "surface"
           }
          ],
          "table": [
           {
            "cells": {
             "fill": {
              "color": "#EBF0F8"
             },
             "line": {
              "color": "white"
             }
            },
            "header": {
             "fill": {
              "color": "#C8D4E3"
             },
             "line": {
              "color": "white"
             }
            },
            "type": "table"
           }
          ]
         },
         "layout": {
          "annotationdefaults": {
           "arrowcolor": "#2a3f5f",
           "arrowhead": 0,
           "arrowwidth": 1
          },
          "coloraxis": {
           "colorbar": {
            "outlinewidth": 0,
            "ticks": ""
           }
          },
          "colorscale": {
           "diverging": [
            [
             0,
             "#8e0152"
            ],
            [
             0.1,
             "#c51b7d"
            ],
            [
             0.2,
             "#de77ae"
            ],
            [
             0.3,
             "#f1b6da"
            ],
            [
             0.4,
             "#fde0ef"
            ],
            [
             0.5,
             "#f7f7f7"
            ],
            [
             0.6,
             "#e6f5d0"
            ],
            [
             0.7,
             "#b8e186"
            ],
            [
             0.8,
             "#7fbc41"
            ],
            [
             0.9,
             "#4d9221"
            ],
            [
             1,
             "#276419"
            ]
           ],
           "sequential": [
            [
             0,
             "#0d0887"
            ],
            [
             0.1111111111111111,
             "#46039f"
            ],
            [
             0.2222222222222222,
             "#7201a8"
            ],
            [
             0.3333333333333333,
             "#9c179e"
            ],
            [
             0.4444444444444444,
             "#bd3786"
            ],
            [
             0.5555555555555556,
             "#d8576b"
            ],
            [
             0.6666666666666666,
             "#ed7953"
            ],
            [
             0.7777777777777778,
             "#fb9f3a"
            ],
            [
             0.8888888888888888,
             "#fdca26"
            ],
            [
             1,
             "#f0f921"
            ]
           ],
           "sequentialminus": [
            [
             0,
             "#0d0887"
            ],
            [
             0.1111111111111111,
             "#46039f"
            ],
            [
             0.2222222222222222,
             "#7201a8"
            ],
            [
             0.3333333333333333,
             "#9c179e"
            ],
            [
             0.4444444444444444,
             "#bd3786"
            ],
            [
             0.5555555555555556,
             "#d8576b"
            ],
            [
             0.6666666666666666,
             "#ed7953"
            ],
            [
             0.7777777777777778,
             "#fb9f3a"
            ],
            [
             0.8888888888888888,
             "#fdca26"
            ],
            [
             1,
             "#f0f921"
            ]
           ]
          },
          "colorway": [
           "#636efa",
           "#EF553B",
           "#00cc96",
           "#ab63fa",
           "#FFA15A",
           "#19d3f3",
           "#FF6692",
           "#B6E880",
           "#FF97FF",
           "#FECB52"
          ],
          "font": {
           "color": "#2a3f5f"
          },
          "geo": {
           "bgcolor": "white",
           "lakecolor": "white",
           "landcolor": "#E5ECF6",
           "showlakes": true,
           "showland": true,
           "subunitcolor": "white"
          },
          "hoverlabel": {
           "align": "left"
          },
          "hovermode": "closest",
          "mapbox": {
           "style": "light"
          },
          "paper_bgcolor": "white",
          "plot_bgcolor": "#E5ECF6",
          "polar": {
           "angularaxis": {
            "gridcolor": "white",
            "linecolor": "white",
            "ticks": ""
           },
           "bgcolor": "#E5ECF6",
           "radialaxis": {
            "gridcolor": "white",
            "linecolor": "white",
            "ticks": ""
           }
          },
          "scene": {
           "xaxis": {
            "backgroundcolor": "#E5ECF6",
            "gridcolor": "white",
            "gridwidth": 2,
            "linecolor": "white",
            "showbackground": true,
            "ticks": "",
            "zerolinecolor": "white"
           },
           "yaxis": {
            "backgroundcolor": "#E5ECF6",
            "gridcolor": "white",
            "gridwidth": 2,
            "linecolor": "white",
            "showbackground": true,
            "ticks": "",
            "zerolinecolor": "white"
           },
           "zaxis": {
            "backgroundcolor": "#E5ECF6",
            "gridcolor": "white",
            "gridwidth": 2,
            "linecolor": "white",
            "showbackground": true,
            "ticks": "",
            "zerolinecolor": "white"
           }
          },
          "shapedefaults": {
           "line": {
            "color": "#2a3f5f"
           }
          },
          "ternary": {
           "aaxis": {
            "gridcolor": "white",
            "linecolor": "white",
            "ticks": ""
           },
           "baxis": {
            "gridcolor": "white",
            "linecolor": "white",
            "ticks": ""
           },
           "bgcolor": "#E5ECF6",
           "caxis": {
            "gridcolor": "white",
            "linecolor": "white",
            "ticks": ""
           }
          },
          "title": {
           "x": 0.05
          },
          "xaxis": {
           "automargin": true,
           "gridcolor": "white",
           "linecolor": "white",
           "ticks": "",
           "title": {
            "standoff": 15
           },
           "zerolinecolor": "white",
           "zerolinewidth": 2
          },
          "yaxis": {
           "automargin": true,
           "gridcolor": "white",
           "linecolor": "white",
           "ticks": "",
           "title": {
            "standoff": 15
           },
           "zerolinecolor": "white",
           "zerolinewidth": 2
          }
         }
        },
        "title": {
         "text": "Tesla's Stock Prices"
        },
        "xaxis": {
         "title": {
          "text": " "
         }
        },
        "yaxis": {
         "title": {
          "text": "Price"
         }
        }
       }
      },
      "text/html": [
       "<div>\n",
       "        \n",
       "        \n",
       "            <div id=\"95712afb-a60e-4cbc-b56c-23d9f3eef3e4\" class=\"plotly-graph-div\" style=\"height:525px; width:100%;\"></div>\n",
       "            <script type=\"text/javascript\">\n",
       "                require([\"plotly\"], function(Plotly) {\n",
       "                    window.PLOTLYENV=window.PLOTLYENV || {};\n",
       "                    \n",
       "                if (document.getElementById(\"95712afb-a60e-4cbc-b56c-23d9f3eef3e4\")) {\n",
       "                    Plotly.newPlot(\n",
       "                        '95712afb-a60e-4cbc-b56c-23d9f3eef3e4',\n",
       "                        [{\"mode\": \"markers\", \"name\": \"TRUE\", \"type\": \"scatter\", \"x\": [0.07027687720559289, 0.2376147839876821, -0.6665029255325562, -0.8921862129013141, 0.6716743581601089, 1.1181395362532145, -0.9967481723041235, 1.0308015494464744, -0.958645095071255, 0.29997542250818676, -0.7163193689169194, -0.935079898313061, -0.6831176460750414, 0.47334999080573764, 2.679978703733012, -0.9648479392850138, -0.43397990816020177, 0.4529138710173866, 1.1926289342908274, 2.6769881757252123, 0.6798710144726589, -0.6806808068743828, -0.9711061354781189, -0.6738134431345323, -0.7074305170886046, -0.4435610400111201, -0.2434921134786937, -0.9588112355161327, -0.3061573146458614, -0.8789498222494075, -0.1842053267089439, -0.9620234249618338, -0.767769667520645, -1.0105660967665213, 1.190192095090169, 0.6224670400690717, 1.123677776434043, -0.9249449086413244, -0.9504484810121244, -0.9745398596014635, -0.4685108390679405, -1.0167412227371877, -0.9795242419614736, 1.153750549066336, -0.8863710438100766, -0.9218711836508279, 0.6584933194875489, -0.12281381261461262, -0.9812688011395287, 0.4203767099550197, 0.7304627235952257, -0.936658274792819, 0.7230137837914644, -0.6254369117747226, -0.962854169439642, -0.9627987752068763, 0.8743462643380717, -0.5177457908952315, 0.564758672032499, -0.6129481531247661, -0.9683370153877047, 0.7692858413472097, -0.019414963086205814, 1.1846538549093406, -0.9255817944311623, -0.9592819808610928, -0.9935360251118417, -0.9346922231905398, 1.2101297935438868, -0.9777797250368377, -0.06917596998438426, -0.9384028339708742, -0.18149147409103705, 2.6453924208459267, -0.1875558538495916, 3.3583854076414004, -0.1694458693032062, -0.8844327104508897, 0.6751357582731267, -0.3605151555417864, -0.014901283817736467, 0.5104285493796664, 0.5915914524691598, -0.9332245929228938, 0.5748935771973969, 0.9132800860487484, 0.03408445734223794, -0.4455548098564919, 0.6124428388628664, -0.6409439166755712, 0.1976841196077389, -0.6764440565163226, 0.6695975180922983, 2.288314520397957, -0.41949737966487355, -0.8908570048354534, -0.6765825632249465, -0.6861082585896797, -0.714131824890416, -0.9310923586223175, -0.936547528580707, -0.6119512259486609, 3.026118715034788, 0.5747551549956117, -0.999711151082508, 1.2330580200054042, 0.6390540423684644, -0.6452083852767239, -0.6076868418543468, 0.02106955911455569, 0.6751357582731267, 2.8915949827323137, -0.9290709127872725, -0.6683305549330503, -0.615301922102986, -0.0963134820813854, 1.39978663248049, 0.9040311505807469, 0.7000578390868545, 0.693135038860819, 0.6119998540144183, -0.6948586882162093, 1.7883220346196376, 1.1815524539291706, -0.9653740366093202, -0.2693003330029952, -0.5498953190884965, -0.9249449086413244, -0.9168867590373985, -0.18968813040358729, -0.9028749758870303, -0.8753776336708585, -0.15662482976349426, 0.6695975180922983, -0.9283232385319032, -0.4855409107226201, 0.19020746156088508, 0.8682818845795175, -0.9986311959373833, -0.9269940727194619, 0.196077982631469, -0.9515561544003417, -0.3055481048456967, 2.6293313891105825, -0.02307022188719385, -0.95991890890435, -0.9685031558325824, 0.4421973897885778, -0.35497691536095805, -0.2418029907868236, 0.4363545869610864, -0.9758136311811392, 1.0185066494844883, -0.0005295437879396404, 0.4908508500587967, 1.2094652317643757, 1.1431170535531274, -0.9762567005364261, -0.2912871532814313, 0.652982797549813, 0.6989501234452179, 0.9162153465840404, -0.978167400159359, -0.18470374804357687, -0.6230554245534102, -0.6352119023136111, 2.956890712774433, -0.1889681321378912, -0.6419408438516764, 0.49791207248661745, 0.6642531365994401, -0.3617335751421158, 0.7789777616636594, 2.79074350734958, -0.7357862797722577, -0.6776901943597444, -1.0062739521756954, -0.4910515171671947, -0.6323319937576656, 1.5317075541511054, -0.1086359312727867, 2.3462997328381, -0.9320615253019109, 1.2011854207225483, 0.6169842363744283, -0.8962014708351501, 0.5574758726736154, -0.6580017065733433, 0.8772815248733637, -0.7293896191239481, -0.6678874855777633, -0.9101854934890063, 2.3124057299736185, -0.994034446446475, 0.6911413535222859, -0.971466134610967, -0.5446616415543312, 0.7964786209167185, -0.6983478065723195, 0.6017263576340577, -0.23177878958061837, -0.9234495601305859, -0.1561541266719532], \"y\": [546.6199951171875, 645.3300170898438, 335.5400085449219, 257.8900146484375, 805.8099975585938, 985.97998046875, 219.94000244140625, 940.6699829101562, 235.0, 667.989990234375, 317.2200012207031, 233.8500061035156, 328.9200134277344, 729.8300170898438, 1546.010009765625, 231.7899932861328, 425.25, 724.5399780273438, 982.1300048828124, 1544.6500244140625, 820.22998046875, 334.8699951171875, 219.6199951171875, 335.8900146484375, 326.5799865722656, 419.2200012207031, 454.4700012207031, 235.7700042724609, 469.05999755859375, 261.97000122070307, 510.5, 231.42999267578125, 299.67999267578125, 215.58999633789062, 1001.780029296875, 745.510009765625, 935.280029296875, 243.4900054931641, 235.00999450683597, 228.0399932861328, 405.5899963378906, 215.0, 220.67999267578125, 990.9000244140624, 259.75, 244.7400054931641, 771.280029296875, 518.5, 226.8300018310547, 705.6300048828125, 734.7000122070312, 240.0500030517578, 809.4099731445312, 346.1099853515625, 233.02999877929688, 228.82000732421875, 882.9600219726562, 393.1499938964844, 780.0, 354.8299865722656, 230.75, 858.4000244140625, 573.0, 1009.3499755859376, 246.6000061035156, 229.00999450683597, 221.7100067138672, 243.1300048828125, 1003.9600219726562, 225.8600006103516, 548.8400268554689, 242.55999755859372, 502.1300048828125, 1500.8399658203125, 513.489990234375, 1497.06005859375, 516.239990234375, 256.95001220703125, 815.5599975585938, 427.6400146484375, 566.9000244140625, 749.5, 748.9600219726562, 241.22999572753903, 782.5800170898438, 899.4099731445312, 560.5499877929689, 418.3299865722656, 803.3300170898438, 348.8399963378906, 634.22998046875, 336.20001220703125, 819.4199829101562, 1394.280029296875, 430.260009765625, 260.17001342773443, 333.0299987792969, 330.3699951171875, 316.2200012207031, 244.69000244140625, 240.8699951171875, 352.2200012207031, 1568.3599853515625, 767.2899780273438, 211.3999938964844, 1025.050048828125, 800.030029296875, 345.0899963378906, 359.67999267578125, 580.989990234375, 790.9600219726562, 1592.3299560546875, 241.6100006103516, 327.7099914550781, 359.5199890136719, 537.9199829101561, 1079.81005859375, 881.5599975585938, 835.0, 827.5999755859375, 800.510009765625, 329.94000244140625, 1208.6600341796875, 994.3200073242188, 233.4199981689453, 478.1499938964844, 381.5, 247.1000061035156, 247.88999938964844, 505.0, 254.67999267578125, 264.8800048828125, 524.8599853515625, 811.2899780273438, 240.6199951171875, 404.0400085449219, 640.8099975585938, 864.3800048828125, 215.63999938964844, 242.80999755859372, 650.5700073242188, 237.72000122070312, 430.20001220703125, 1500.6400146484375, 564.8200073242188, 235.5399932861328, 225.6100006103516, 709.8900146484375, 443.010009765625, 445.0700073242188, 679.0, 229.5800018310547, 949.9199829101562, 572.2000122070312, 745.2100219726562, 972.8400268554688, 959.739990234375, 227.4499969482422, 427.5299987792969, 804.0, 818.8699951171875, 901.0, 225.00999450683597, 480.010009765625, 352.70001220703125, 352.1700134277344, 1643.0, 481.55999755859375, 349.92999267578125, 761.1900024414062, 808.010009765625, 451.5400085449219, 833.7899780273438, 1516.800048828125, 313.30999755859375, 337.1400146484375, 214.0800018310547, 361.2200012207031, 349.3500061035156, 1119.6300048828123, 524.0, 1389.8599853515625, 244.7899932861328, 1000.9000244140624, 769.1199951171875, 256.95999145507807, 774.3800048828125, 336.3399963378906, 898.0999755859375, 315.010009765625, 333.0400085449219, 245.8699951171875, 1365.8800048828125, 220.8300018310547, 816.8800048828125, 228.32000732421875, 378.989990234375, 781.8800048828125, 328.1300048828125, 798.75, 492.1400146484375, 242.1300048828125, 514.3599853515625]}, {\"mode\": \"markers\", \"name\": \"PREDICTED\", \"type\": \"scatter\", \"x\": [0.07027687720559289, 0.2376147839876821, -0.6665029255325562, -0.8921862129013141, 0.6716743581601089, 1.1181395362532145, -0.9967481723041235, 1.0308015494464744, -0.958645095071255, 0.29997542250818676, -0.7163193689169194, -0.935079898313061, -0.6831176460750414, 0.47334999080573764, 2.679978703733012, -0.9648479392850138, -0.43397990816020177, 0.4529138710173866, 1.1926289342908274, 2.6769881757252123, 0.6798710144726589, -0.6806808068743828, -0.9711061354781189, -0.6738134431345323, -0.7074305170886046, -0.4435610400111201, -0.2434921134786937, -0.9588112355161327, -0.3061573146458614, -0.8789498222494075, -0.1842053267089439, -0.9620234249618338, -0.767769667520645, -1.0105660967665213, 1.190192095090169, 0.6224670400690717, 1.123677776434043, -0.9249449086413244, -0.9504484810121244, -0.9745398596014635, -0.4685108390679405, -1.0167412227371877, -0.9795242419614736, 1.153750549066336, -0.8863710438100766, -0.9218711836508279, 0.6584933194875489, -0.12281381261461262, -0.9812688011395287, 0.4203767099550197, 0.7304627235952257, -0.936658274792819, 0.7230137837914644, -0.6254369117747226, -0.962854169439642, -0.9627987752068763, 0.8743462643380717, -0.5177457908952315, 0.564758672032499, -0.6129481531247661, -0.9683370153877047, 0.7692858413472097, -0.019414963086205814, 1.1846538549093406, -0.9255817944311623, -0.9592819808610928, -0.9935360251118417, -0.9346922231905398, 1.2101297935438868, -0.9777797250368377, -0.06917596998438426, -0.9384028339708742, -0.18149147409103705, 2.6453924208459267, -0.1875558538495916, 3.3583854076414004, -0.1694458693032062, -0.8844327104508897, 0.6751357582731267, -0.3605151555417864, -0.014901283817736467, 0.5104285493796664, 0.5915914524691598, -0.9332245929228938, 0.5748935771973969, 0.9132800860487484, 0.03408445734223794, -0.4455548098564919, 0.6124428388628664, -0.6409439166755712, 0.1976841196077389, -0.6764440565163226, 0.6695975180922983, 2.288314520397957, -0.41949737966487355, -0.8908570048354534, -0.6765825632249465, -0.6861082585896797, -0.714131824890416, -0.9310923586223175, -0.936547528580707, -0.6119512259486609, 3.026118715034788, 0.5747551549956117, -0.999711151082508, 1.2330580200054042, 0.6390540423684644, -0.6452083852767239, -0.6076868418543468, 0.02106955911455569, 0.6751357582731267, 2.8915949827323137, -0.9290709127872725, -0.6683305549330503, -0.615301922102986, -0.0963134820813854, 1.39978663248049, 0.9040311505807469, 0.7000578390868545, 0.693135038860819, 0.6119998540144183, -0.6948586882162093, 1.7883220346196376, 1.1815524539291706, -0.9653740366093202, -0.2693003330029952, -0.5498953190884965, -0.9249449086413244, -0.9168867590373985, -0.18968813040358729, -0.9028749758870303, -0.8753776336708585, -0.15662482976349426, 0.6695975180922983, -0.9283232385319032, -0.4855409107226201, 0.19020746156088508, 0.8682818845795175, -0.9986311959373833, -0.9269940727194619, 0.196077982631469, -0.9515561544003417, -0.3055481048456967, 2.6293313891105825, -0.02307022188719385, -0.95991890890435, -0.9685031558325824, 0.4421973897885778, -0.35497691536095805, -0.2418029907868236, 0.4363545869610864, -0.9758136311811392, 1.0185066494844883, -0.0005295437879396404, 0.4908508500587967, 1.2094652317643757, 1.1431170535531274, -0.9762567005364261, -0.2912871532814313, 0.652982797549813, 0.6989501234452179, 0.9162153465840404, -0.978167400159359, -0.18470374804357687, -0.6230554245534102, -0.6352119023136111, 2.956890712774433, -0.1889681321378912, -0.6419408438516764, 0.49791207248661745, 0.6642531365994401, -0.3617335751421158, 0.7789777616636594, 2.79074350734958, -0.7357862797722577, -0.6776901943597444, -1.0062739521756954, -0.4910515171671947, -0.6323319937576656, 1.5317075541511054, -0.1086359312727867, 2.3462997328381, -0.9320615253019109, 1.2011854207225483, 0.6169842363744283, -0.8962014708351501, 0.5574758726736154, -0.6580017065733433, 0.8772815248733637, -0.7293896191239481, -0.6678874855777633, -0.9101854934890063, 2.3124057299736185, -0.994034446446475, 0.6911413535222859, -0.971466134610967, -0.5446616415543312, 0.7964786209167185, -0.6983478065723195, 0.6017263576340577, -0.23177878958061837, -0.9234495601305859, -0.1561541266719532], \"y\": [518.7685834412407, 622.0592093821288, 339.0466823815568, 256.7540735099044, 819.0369131059769, 971.1123807047416, 220.25107074301837, 945.6192816510786, 233.09154361070597, 661.6615832861576, 320.8114840562269, 234.0447116010845, 329.56158074823225, 727.1088990827332, 1483.662023834199, 232.37358168707107, 421.1868789386117, 741.662735890618, 976.3279526255997, 1502.190154282693, 799.8835455710766, 335.62282317234053, 217.7938419502845, 339.64801629526323, 322.5943061489172, 420.73078870709605, 460.9877515878506, 232.87479521316345, 465.09293785381726, 262.78094131908637, 513.8473785529382, 230.98381693950427, 296.3887994453465, 215.01925958048878, 1015.3074517275861, 728.6388173465668, 931.2988539010141, 245.32617037969544, 236.434371908054, 225.3060664095848, 405.7952008133992, 212.82487070162938, 220.90591397482132, 976.6722074644936, 261.2054100876716, 245.2178762627429, 776.8575551232581, 528.0853125440003, 224.7031190676069, 716.2066804172825, 732.7540466556638, 240.9104102881368, 829.5213832408213, 348.7492780363808, 227.13706404903763, 227.57665796450243, 897.5347775870619, 393.911072305104, 761.1442104629193, 360.8496547211182, 226.8239714535402, 855.4573996113911, 572.1480227764885, 989.254162265317, 246.95042070869818, 231.29514081825857, 221.44614883833117, 241.1633267574349, 1018.1705632846792, 226.04877783793313, 541.3679095567413, 237.09472733550763, 500.9331324853573, 1527.0281366507961, 511.79213053795957, 1592.3365074877083, 510.0962968806124, 257.6417549129419, 825.1803873233421, 416.54729478445506, 569.874132803471, 735.9348557297731, 763.3147603113551, 243.4918936035827, 779.5476645603575, 871.8720512319627, 562.5581377434422, 416.864105764941, 789.6545922686657, 349.16289343603125, 629.7136767521991, 337.99972330705873, 817.6503593566721, 1378.2166427742504, 429.67418477594083, 258.0780132825525, 335.1262658410643, 330.4330389088748, 319.9832710012656, 243.0036041494422, 237.62527970574894, 353.067498766318, 1605.7388504884775, 780.8527836140584, 212.45635876128802, 1019.9928815416858, 812.8099893192539, 348.0941905712123, 361.2107005132972, 583.5903931856219, 777.599177104011, 1603.0291897600018, 240.17659086362715, 334.48345568185573, 356.0591515697098, 533.4824736029806, 1073.2757810001644, 891.87533895297, 832.0861501009884, 817.3813203560712, 801.6837067573136, 329.57108019789564, 1206.4424405577429, 1008.4658008215472, 231.2121340904887, 480.5838558313277, 380.2545070196145, 244.39324622241116, 250.46102019196712, 504.4483439330029, 253.4228563557224, 264.1820379095498, 519.8113291024137, 817.87427024656, 239.40098322005093, 406.6906688460241, 638.5702385022673, 873.5013043999365, 212.65936333372997, 242.97274308243044, 648.7709344699705, 235.3291824613226, 423.32603600772245, 1523.8933841837052, 562.6966461083556, 232.80194088929807, 227.24146690675002, 731.0961271495094, 450.56787072151735, 465.02366761990345, 685.4140987598397, 226.47630564008563, 942.1789906855221, 574.2194301708918, 745.0522208514708, 1004.694974220722, 967.651604425042, 227.3405247743974, 457.68062046164675, 797.4806942875182, 825.6843598883847, 896.0478414791842, 227.01717032740328, 478.51698548010563, 357.21840528889726, 352.2020651615575, 1600.549782457923, 487.40093792422897, 348.85012765594325, 748.912131948219, 820.4567443811186, 451.62315172123493, 849.6030226224179, 1477.6293101152837, 311.84710615066035, 336.70625720304497, 214.5350967974286, 365.7743295408237, 350.6688749694431, 1130.7954664376575, 531.3591807219769, 1373.5258747719954, 243.24125500070056, 1006.2020727853117, 773.1416493912869, 255.57926099890108, 777.2747009729428, 337.2605297105456, 893.169950675529, 315.991059620328, 333.32772603043003, 249.418002190503, 1339.7428505734224, 219.00018214818164, 828.4116070546654, 227.64896269107481, 383.3682097508113, 785.7932657108003, 321.23969185982, 787.1245614196272, 490.8268784180256, 244.26227189955443, 513.7404681708766]}],\n",
       "                        {\"template\": {\"data\": {\"bar\": [{\"error_x\": {\"color\": \"#2a3f5f\"}, \"error_y\": {\"color\": \"#2a3f5f\"}, \"marker\": {\"line\": {\"color\": \"#E5ECF6\", \"width\": 0.5}}, \"type\": \"bar\"}], \"barpolar\": [{\"marker\": {\"line\": {\"color\": \"#E5ECF6\", \"width\": 0.5}}, \"type\": \"barpolar\"}], \"carpet\": [{\"aaxis\": {\"endlinecolor\": \"#2a3f5f\", \"gridcolor\": \"white\", \"linecolor\": \"white\", \"minorgridcolor\": \"white\", \"startlinecolor\": \"#2a3f5f\"}, \"baxis\": {\"endlinecolor\": \"#2a3f5f\", \"gridcolor\": \"white\", \"linecolor\": \"white\", \"minorgridcolor\": \"white\", \"startlinecolor\": \"#2a3f5f\"}, \"type\": \"carpet\"}], \"choropleth\": [{\"colorbar\": {\"outlinewidth\": 0, \"ticks\": \"\"}, \"type\": \"choropleth\"}], \"contour\": [{\"colorbar\": {\"outlinewidth\": 0, \"ticks\": \"\"}, \"colorscale\": [[0.0, \"#0d0887\"], [0.1111111111111111, \"#46039f\"], [0.2222222222222222, \"#7201a8\"], [0.3333333333333333, \"#9c179e\"], [0.4444444444444444, \"#bd3786\"], [0.5555555555555556, \"#d8576b\"], [0.6666666666666666, \"#ed7953\"], [0.7777777777777778, \"#fb9f3a\"], [0.8888888888888888, \"#fdca26\"], [1.0, \"#f0f921\"]], \"type\": \"contour\"}], \"contourcarpet\": [{\"colorbar\": {\"outlinewidth\": 0, \"ticks\": \"\"}, \"type\": \"contourcarpet\"}], \"heatmap\": [{\"colorbar\": {\"outlinewidth\": 0, \"ticks\": \"\"}, \"colorscale\": [[0.0, \"#0d0887\"], [0.1111111111111111, \"#46039f\"], [0.2222222222222222, \"#7201a8\"], [0.3333333333333333, \"#9c179e\"], [0.4444444444444444, \"#bd3786\"], [0.5555555555555556, \"#d8576b\"], [0.6666666666666666, \"#ed7953\"], [0.7777777777777778, \"#fb9f3a\"], [0.8888888888888888, \"#fdca26\"], [1.0, \"#f0f921\"]], \"type\": \"heatmap\"}], \"heatmapgl\": [{\"colorbar\": {\"outlinewidth\": 0, \"ticks\": \"\"}, \"colorscale\": [[0.0, \"#0d0887\"], [0.1111111111111111, \"#46039f\"], [0.2222222222222222, \"#7201a8\"], [0.3333333333333333, \"#9c179e\"], [0.4444444444444444, \"#bd3786\"], [0.5555555555555556, \"#d8576b\"], [0.6666666666666666, \"#ed7953\"], [0.7777777777777778, \"#fb9f3a\"], [0.8888888888888888, \"#fdca26\"], [1.0, \"#f0f921\"]], \"type\": \"heatmapgl\"}], \"histogram\": [{\"marker\": {\"colorbar\": {\"outlinewidth\": 0, \"ticks\": \"\"}}, \"type\": \"histogram\"}], \"histogram2d\": [{\"colorbar\": {\"outlinewidth\": 0, \"ticks\": \"\"}, \"colorscale\": [[0.0, \"#0d0887\"], [0.1111111111111111, \"#46039f\"], [0.2222222222222222, \"#7201a8\"], [0.3333333333333333, \"#9c179e\"], [0.4444444444444444, \"#bd3786\"], [0.5555555555555556, \"#d8576b\"], [0.6666666666666666, \"#ed7953\"], [0.7777777777777778, \"#fb9f3a\"], [0.8888888888888888, \"#fdca26\"], [1.0, \"#f0f921\"]], \"type\": \"histogram2d\"}], \"histogram2dcontour\": [{\"colorbar\": {\"outlinewidth\": 0, \"ticks\": \"\"}, \"colorscale\": [[0.0, \"#0d0887\"], [0.1111111111111111, \"#46039f\"], [0.2222222222222222, \"#7201a8\"], [0.3333333333333333, \"#9c179e\"], [0.4444444444444444, \"#bd3786\"], [0.5555555555555556, \"#d8576b\"], [0.6666666666666666, \"#ed7953\"], [0.7777777777777778, \"#fb9f3a\"], [0.8888888888888888, \"#fdca26\"], [1.0, \"#f0f921\"]], \"type\": \"histogram2dcontour\"}], \"mesh3d\": [{\"colorbar\": {\"outlinewidth\": 0, \"ticks\": \"\"}, \"type\": \"mesh3d\"}], \"parcoords\": [{\"line\": {\"colorbar\": {\"outlinewidth\": 0, \"ticks\": \"\"}}, \"type\": \"parcoords\"}], \"pie\": [{\"automargin\": true, \"type\": \"pie\"}], \"scatter\": [{\"marker\": {\"colorbar\": {\"outlinewidth\": 0, \"ticks\": \"\"}}, \"type\": \"scatter\"}], \"scatter3d\": [{\"line\": {\"colorbar\": {\"outlinewidth\": 0, \"ticks\": \"\"}}, \"marker\": {\"colorbar\": {\"outlinewidth\": 0, \"ticks\": \"\"}}, \"type\": \"scatter3d\"}], \"scattercarpet\": [{\"marker\": {\"colorbar\": {\"outlinewidth\": 0, \"ticks\": \"\"}}, \"type\": \"scattercarpet\"}], \"scattergeo\": [{\"marker\": {\"colorbar\": {\"outlinewidth\": 0, \"ticks\": \"\"}}, \"type\": \"scattergeo\"}], \"scattergl\": [{\"marker\": {\"colorbar\": {\"outlinewidth\": 0, \"ticks\": \"\"}}, \"type\": \"scattergl\"}], \"scattermapbox\": [{\"marker\": {\"colorbar\": {\"outlinewidth\": 0, \"ticks\": \"\"}}, \"type\": \"scattermapbox\"}], \"scatterpolar\": [{\"marker\": {\"colorbar\": {\"outlinewidth\": 0, \"ticks\": \"\"}}, \"type\": \"scatterpolar\"}], \"scatterpolargl\": [{\"marker\": {\"colorbar\": {\"outlinewidth\": 0, \"ticks\": \"\"}}, \"type\": \"scatterpolargl\"}], \"scatterternary\": [{\"marker\": {\"colorbar\": {\"outlinewidth\": 0, \"ticks\": \"\"}}, \"type\": \"scatterternary\"}], \"surface\": [{\"colorbar\": {\"outlinewidth\": 0, \"ticks\": \"\"}, \"colorscale\": [[0.0, \"#0d0887\"], [0.1111111111111111, \"#46039f\"], [0.2222222222222222, \"#7201a8\"], [0.3333333333333333, \"#9c179e\"], [0.4444444444444444, \"#bd3786\"], [0.5555555555555556, \"#d8576b\"], [0.6666666666666666, \"#ed7953\"], [0.7777777777777778, \"#fb9f3a\"], [0.8888888888888888, \"#fdca26\"], [1.0, \"#f0f921\"]], \"type\": \"surface\"}], \"table\": [{\"cells\": {\"fill\": {\"color\": \"#EBF0F8\"}, \"line\": {\"color\": \"white\"}}, \"header\": {\"fill\": {\"color\": \"#C8D4E3\"}, \"line\": {\"color\": \"white\"}}, \"type\": \"table\"}]}, \"layout\": {\"annotationdefaults\": {\"arrowcolor\": \"#2a3f5f\", \"arrowhead\": 0, \"arrowwidth\": 1}, \"coloraxis\": {\"colorbar\": {\"outlinewidth\": 0, \"ticks\": \"\"}}, \"colorscale\": {\"diverging\": [[0, \"#8e0152\"], [0.1, \"#c51b7d\"], [0.2, \"#de77ae\"], [0.3, \"#f1b6da\"], [0.4, \"#fde0ef\"], [0.5, \"#f7f7f7\"], [0.6, \"#e6f5d0\"], [0.7, \"#b8e186\"], [0.8, \"#7fbc41\"], [0.9, \"#4d9221\"], [1, \"#276419\"]], \"sequential\": [[0.0, \"#0d0887\"], [0.1111111111111111, \"#46039f\"], [0.2222222222222222, \"#7201a8\"], [0.3333333333333333, \"#9c179e\"], [0.4444444444444444, \"#bd3786\"], [0.5555555555555556, \"#d8576b\"], [0.6666666666666666, \"#ed7953\"], [0.7777777777777778, \"#fb9f3a\"], [0.8888888888888888, \"#fdca26\"], [1.0, \"#f0f921\"]], \"sequentialminus\": [[0.0, \"#0d0887\"], [0.1111111111111111, \"#46039f\"], [0.2222222222222222, \"#7201a8\"], [0.3333333333333333, \"#9c179e\"], [0.4444444444444444, \"#bd3786\"], [0.5555555555555556, \"#d8576b\"], [0.6666666666666666, \"#ed7953\"], [0.7777777777777778, \"#fb9f3a\"], [0.8888888888888888, \"#fdca26\"], [1.0, \"#f0f921\"]]}, \"colorway\": [\"#636efa\", \"#EF553B\", \"#00cc96\", \"#ab63fa\", \"#FFA15A\", \"#19d3f3\", \"#FF6692\", \"#B6E880\", \"#FF97FF\", \"#FECB52\"], \"font\": {\"color\": \"#2a3f5f\"}, \"geo\": {\"bgcolor\": \"white\", \"lakecolor\": \"white\", \"landcolor\": \"#E5ECF6\", \"showlakes\": true, \"showland\": true, \"subunitcolor\": \"white\"}, \"hoverlabel\": {\"align\": \"left\"}, \"hovermode\": \"closest\", \"mapbox\": {\"style\": \"light\"}, \"paper_bgcolor\": \"white\", \"plot_bgcolor\": \"#E5ECF6\", \"polar\": {\"angularaxis\": {\"gridcolor\": \"white\", \"linecolor\": \"white\", \"ticks\": \"\"}, \"bgcolor\": \"#E5ECF6\", \"radialaxis\": {\"gridcolor\": \"white\", \"linecolor\": \"white\", \"ticks\": \"\"}}, \"scene\": {\"xaxis\": {\"backgroundcolor\": \"#E5ECF6\", \"gridcolor\": \"white\", \"gridwidth\": 2, \"linecolor\": \"white\", \"showbackground\": true, \"ticks\": \"\", \"zerolinecolor\": \"white\"}, \"yaxis\": {\"backgroundcolor\": \"#E5ECF6\", \"gridcolor\": \"white\", \"gridwidth\": 2, \"linecolor\": \"white\", \"showbackground\": true, \"ticks\": \"\", \"zerolinecolor\": \"white\"}, \"zaxis\": {\"backgroundcolor\": \"#E5ECF6\", \"gridcolor\": \"white\", \"gridwidth\": 2, \"linecolor\": \"white\", \"showbackground\": true, \"ticks\": \"\", \"zerolinecolor\": \"white\"}}, \"shapedefaults\": {\"line\": {\"color\": \"#2a3f5f\"}}, \"ternary\": {\"aaxis\": {\"gridcolor\": \"white\", \"linecolor\": \"white\", \"ticks\": \"\"}, \"baxis\": {\"gridcolor\": \"white\", \"linecolor\": \"white\", \"ticks\": \"\"}, \"bgcolor\": \"#E5ECF6\", \"caxis\": {\"gridcolor\": \"white\", \"linecolor\": \"white\", \"ticks\": \"\"}}, \"title\": {\"x\": 0.05}, \"xaxis\": {\"automargin\": true, \"gridcolor\": \"white\", \"linecolor\": \"white\", \"ticks\": \"\", \"title\": {\"standoff\": 15}, \"zerolinecolor\": \"white\", \"zerolinewidth\": 2}, \"yaxis\": {\"automargin\": true, \"gridcolor\": \"white\", \"linecolor\": \"white\", \"ticks\": \"\", \"title\": {\"standoff\": 15}, \"zerolinecolor\": \"white\", \"zerolinewidth\": 2}}}, \"title\": {\"text\": \"Tesla's Stock Prices\"}, \"xaxis\": {\"title\": {\"text\": \" \"}}, \"yaxis\": {\"title\": {\"text\": \"Price\"}}},\n",
       "                        {\"responsive\": true}\n",
       "                    ).then(function(){\n",
       "                            \n",
       "var gd = document.getElementById('95712afb-a60e-4cbc-b56c-23d9f3eef3e4');\n",
       "var x = new MutationObserver(function (mutations, observer) {{\n",
       "        var display = window.getComputedStyle(gd).display;\n",
       "        if (!display || display === 'none') {{\n",
       "            console.log([gd, 'removed!']);\n",
       "            Plotly.purge(gd);\n",
       "            observer.disconnect();\n",
       "        }}\n",
       "}});\n",
       "\n",
       "// Listen for the removal of the full notebook cells\n",
       "var notebookContainer = gd.closest('#notebook-container');\n",
       "if (notebookContainer) {{\n",
       "    x.observe(notebookContainer, {childList: true});\n",
       "}}\n",
       "\n",
       "// Listen for the clearing of the current output cell\n",
       "var outputEl = gd.closest('.output');\n",
       "if (outputEl) {{\n",
       "    x.observe(outputEl, {childList: true});\n",
       "}}\n",
       "\n",
       "                        })\n",
       "                };\n",
       "                });\n",
       "            </script>\n",
       "        </div>"
      ]
     },
     "metadata": {},
     "output_type": "display_data"
    }
   ],
   "source": [
    "iplot(fig)"
   ]
  },
  {
   "cell_type": "code",
   "execution_count": null,
   "metadata": {},
   "outputs": [],
   "source": []
  },
  {
   "cell_type": "code",
   "execution_count": null,
   "metadata": {},
   "outputs": [],
   "source": []
  }
 ],
 "metadata": {
  "kernelspec": {
   "display_name": "Python 3",
   "language": "python",
   "name": "python3"
  },
  "language_info": {
   "codemirror_mode": {
    "name": "ipython",
    "version": 3
   },
   "file_extension": ".py",
   "mimetype": "text/x-python",
   "name": "python",
   "nbconvert_exporter": "python",
   "pygments_lexer": "ipython3",
   "version": "3.7.6"
  }
 },
 "nbformat": 4,
 "nbformat_minor": 4
}
